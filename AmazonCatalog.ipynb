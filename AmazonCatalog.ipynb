{
 "cells": [
  {
   "cell_type": "code",
   "execution_count": 1,
   "metadata": {},
   "outputs": [],
   "source": [
    "import pandas as pd\n",
    "import numpy as np\n",
    "import matplotlib.pyplot as plt\n",
    "import seaborn as sns\n",
    "from scipy.stats import mode\n",
    "import re\n",
    "%matplotlib inline\n",
    "import warnings\n",
    "warnings.filterwarnings('ignore');"
   ]
  },
  {
   "cell_type": "markdown",
   "metadata": {},
   "source": [
    "Loading the data"
   ]
  },
  {
   "cell_type": "code",
   "execution_count": 2,
   "metadata": {},
   "outputs": [
    {
     "data": {
      "text/html": [
       "<div>\n",
       "<style scoped>\n",
       "    .dataframe tbody tr th:only-of-type {\n",
       "        vertical-align: middle;\n",
       "    }\n",
       "\n",
       "    .dataframe tbody tr th {\n",
       "        vertical-align: top;\n",
       "    }\n",
       "\n",
       "    .dataframe thead th {\n",
       "        text-align: right;\n",
       "    }\n",
       "</style>\n",
       "<table border=\"1\" class=\"dataframe\">\n",
       "  <thead>\n",
       "    <tr style=\"text-align: right;\">\n",
       "      <th></th>\n",
       "      <th>show_id</th>\n",
       "      <th>type</th>\n",
       "      <th>title</th>\n",
       "      <th>director</th>\n",
       "      <th>cast</th>\n",
       "      <th>country</th>\n",
       "      <th>date_added</th>\n",
       "      <th>release_year</th>\n",
       "      <th>rating</th>\n",
       "      <th>duration</th>\n",
       "      <th>listed_in</th>\n",
       "      <th>description</th>\n",
       "    </tr>\n",
       "  </thead>\n",
       "  <tbody>\n",
       "    <tr>\n",
       "      <th>0</th>\n",
       "      <td>s1</td>\n",
       "      <td>Movie</td>\n",
       "      <td>The Grand Seduction</td>\n",
       "      <td>Don McKellar</td>\n",
       "      <td>Brendan Gleeson, Taylor Kitsch, Gordon Pinsent</td>\n",
       "      <td>Canada</td>\n",
       "      <td>March 30, 2021</td>\n",
       "      <td>2014</td>\n",
       "      <td>NaN</td>\n",
       "      <td>113 min</td>\n",
       "      <td>Comedy, Drama</td>\n",
       "      <td>A small fishing village must procure a local d...</td>\n",
       "    </tr>\n",
       "    <tr>\n",
       "      <th>1</th>\n",
       "      <td>s2</td>\n",
       "      <td>Movie</td>\n",
       "      <td>Take Care Good Night</td>\n",
       "      <td>Girish Joshi</td>\n",
       "      <td>Mahesh Manjrekar, Abhay Mahajan, Sachin Khedekar</td>\n",
       "      <td>India</td>\n",
       "      <td>March 30, 2021</td>\n",
       "      <td>2018</td>\n",
       "      <td>13+</td>\n",
       "      <td>110 min</td>\n",
       "      <td>Drama, International</td>\n",
       "      <td>A Metro Family decides to fight a Cyber Crimin...</td>\n",
       "    </tr>\n",
       "    <tr>\n",
       "      <th>2</th>\n",
       "      <td>s3</td>\n",
       "      <td>Movie</td>\n",
       "      <td>Secrets of Deception</td>\n",
       "      <td>Josh Webber</td>\n",
       "      <td>Tom Sizemore, Lorenzo Lamas, Robert LaSardo, R...</td>\n",
       "      <td>United States</td>\n",
       "      <td>March 30, 2021</td>\n",
       "      <td>2017</td>\n",
       "      <td>NaN</td>\n",
       "      <td>74 min</td>\n",
       "      <td>Action, Drama, Suspense</td>\n",
       "      <td>After a man discovers his wife is cheating on ...</td>\n",
       "    </tr>\n",
       "    <tr>\n",
       "      <th>3</th>\n",
       "      <td>s4</td>\n",
       "      <td>Movie</td>\n",
       "      <td>Pink: Staying True</td>\n",
       "      <td>Sonia Anderson</td>\n",
       "      <td>Interviews with: Pink, Adele, Beyoncé, Britney...</td>\n",
       "      <td>United States</td>\n",
       "      <td>March 30, 2021</td>\n",
       "      <td>2014</td>\n",
       "      <td>NaN</td>\n",
       "      <td>69 min</td>\n",
       "      <td>Documentary</td>\n",
       "      <td>Pink breaks the mold once again, bringing her ...</td>\n",
       "    </tr>\n",
       "    <tr>\n",
       "      <th>4</th>\n",
       "      <td>s5</td>\n",
       "      <td>Movie</td>\n",
       "      <td>Monster Maker</td>\n",
       "      <td>Giles Foster</td>\n",
       "      <td>Harry Dean Stanton, Kieran O'Brien, George Cos...</td>\n",
       "      <td>United Kingdom</td>\n",
       "      <td>March 30, 2021</td>\n",
       "      <td>1989</td>\n",
       "      <td>NaN</td>\n",
       "      <td>45 min</td>\n",
       "      <td>Drama, Fantasy</td>\n",
       "      <td>Teenage Matt Banting wants to work with a famo...</td>\n",
       "    </tr>\n",
       "  </tbody>\n",
       "</table>\n",
       "</div>"
      ],
      "text/plain": [
       "  show_id   type                 title        director  \\\n",
       "0      s1  Movie   The Grand Seduction    Don McKellar   \n",
       "1      s2  Movie  Take Care Good Night    Girish Joshi   \n",
       "2      s3  Movie  Secrets of Deception     Josh Webber   \n",
       "3      s4  Movie    Pink: Staying True  Sonia Anderson   \n",
       "4      s5  Movie         Monster Maker    Giles Foster   \n",
       "\n",
       "                                                cast         country  \\\n",
       "0     Brendan Gleeson, Taylor Kitsch, Gordon Pinsent          Canada   \n",
       "1   Mahesh Manjrekar, Abhay Mahajan, Sachin Khedekar           India   \n",
       "2  Tom Sizemore, Lorenzo Lamas, Robert LaSardo, R...   United States   \n",
       "3  Interviews with: Pink, Adele, Beyoncé, Britney...   United States   \n",
       "4  Harry Dean Stanton, Kieran O'Brien, George Cos...  United Kingdom   \n",
       "\n",
       "       date_added  release_year rating duration                listed_in  \\\n",
       "0  March 30, 2021          2014    NaN  113 min            Comedy, Drama   \n",
       "1  March 30, 2021          2018    13+  110 min     Drama, International   \n",
       "2  March 30, 2021          2017    NaN   74 min  Action, Drama, Suspense   \n",
       "3  March 30, 2021          2014    NaN   69 min              Documentary   \n",
       "4  March 30, 2021          1989    NaN   45 min           Drama, Fantasy   \n",
       "\n",
       "                                         description  \n",
       "0  A small fishing village must procure a local d...  \n",
       "1  A Metro Family decides to fight a Cyber Crimin...  \n",
       "2  After a man discovers his wife is cheating on ...  \n",
       "3  Pink breaks the mold once again, bringing her ...  \n",
       "4  Teenage Matt Banting wants to work with a famo...  "
      ]
     },
     "execution_count": 2,
     "metadata": {},
     "output_type": "execute_result"
    }
   ],
   "source": [
    "dfRaw = pd.read_csv('data/amazon_prime_titles.csv')\n",
    "dfRaw.head()"
   ]
  },
  {
   "cell_type": "markdown",
   "metadata": {},
   "source": [
    "Algumas perguntas a serem respondidas\n",
    "1. Qual tipo é mais comum?\n",
    "2. Qual diretor possui a maior quantidade de trabalhos no catálogo?\n",
    "4. Qual a duração média dos filmes, seriados, show, etc...\n",
    "5. Como os filmes estão listados? comédia, drama, suspense, etc...\n",
    "6. Quais atores trabalharam com mais frequência em projetos na Amazon?\n",
    "7. Dos principais diretores qual é o rating de seus trabalhos?\n",
    "8. Qual mês do ano possui a maior quantidade de conteúdo adicionado?\n",
    "9. Agregar o tipo de conteúdo entre filmes e outros conteúdo por ano\n",
    "10. Quais Diretores costumam trabalhar com quais atores?"
   ]
  },
  {
   "cell_type": "code",
   "execution_count": 3,
   "metadata": {},
   "outputs": [
    {
     "name": "stdout",
     "output_type": "stream",
     "text": [
      "<class 'pandas.core.frame.DataFrame'>\n",
      "RangeIndex: 9668 entries, 0 to 9667\n",
      "Data columns (total 12 columns):\n",
      " #   Column        Non-Null Count  Dtype \n",
      "---  ------        --------------  ----- \n",
      " 0   show_id       9668 non-null   object\n",
      " 1   type          9668 non-null   object\n",
      " 2   title         9668 non-null   object\n",
      " 3   director      7586 non-null   object\n",
      " 4   cast          8435 non-null   object\n",
      " 5   country       672 non-null    object\n",
      " 6   date_added    155 non-null    object\n",
      " 7   release_year  9668 non-null   int64 \n",
      " 8   rating        9331 non-null   object\n",
      " 9   duration      9668 non-null   object\n",
      " 10  listed_in     9668 non-null   object\n",
      " 11  description   9668 non-null   object\n",
      "dtypes: int64(1), object(11)\n",
      "memory usage: 906.5+ KB\n"
     ]
    }
   ],
   "source": [
    "dfRaw.info()"
   ]
  },
  {
   "cell_type": "code",
   "execution_count": 4,
   "metadata": {},
   "outputs": [
    {
     "data": {
      "text/plain": [
       "show_id            0\n",
       "type               0\n",
       "title              0\n",
       "director        2082\n",
       "cast            1233\n",
       "country         8996\n",
       "date_added      9513\n",
       "release_year       0\n",
       "rating           337\n",
       "duration           0\n",
       "listed_in          0\n",
       "description        0\n",
       "dtype: int64"
      ]
     },
     "execution_count": 4,
     "metadata": {},
     "output_type": "execute_result"
    }
   ],
   "source": [
    "dfRaw.isnull().sum()"
   ]
  },
  {
   "cell_type": "markdown",
   "metadata": {},
   "source": [
    "### Qual tipo é mais comum?\n",
    "Contando a quantidade da variável type podemos responder a essa pergunta facilmente"
   ]
  },
  {
   "cell_type": "code",
   "execution_count": 5,
   "metadata": {},
   "outputs": [
    {
     "data": {
      "image/png": "[encoded data removed]",
      "text/plain": [
       "<Figure size 1152x432 with 2 Axes>"
      ]
     },
     "metadata": {
      "needs_background": "light"
     },
     "output_type": "display_data"
    }
   ],
   "source": [
    "dfTypeCnt = dfRaw[['type']].value_counts()\n",
    "dfTypeCnt\n",
    "\n",
    "fig, ax = plt.subplots(nrows=1, ncols=2, figsize = (16,6))\n",
    "\n",
    "ax[0].pie(dfTypeCnt.values,labels=dfTypeCnt.index.values,autopct=\"%.1f%%\", explode=[0.05]*2, pctdistance=0.5);\n",
    "ax[0].set_title(\"Distribuição dos tipos como gráfico de pizza\")\n",
    "\n",
    "sns.barplot(x = dfTypeCnt.values, y = dfTypeCnt.index.values, ax = ax[1])\n",
    "ax[1].set_title(\"Contagem dos tipoes de conteúdo no catálogo da amazon prime\")\n",
    "ax[1].set_ylabel('Tipo de conteúdo')\n",
    "ax[1].set_xlabel('Quantidade')\n",
    "\n",
    "\n",
    "\n",
    "plt.tight_layout(pad=5)\n",
    "plt.show()"
   ]
  },
  {
   "cell_type": "markdown",
   "metadata": {},
   "source": [
    "### Qual diretor possui a maior quantidade de trabalhos no catálogo?"
   ]
  },
  {
   "cell_type": "code",
   "execution_count": 6,
   "metadata": {},
   "outputs": [
    {
     "data": {
      "image/png": "[encoded data removed]",
      "text/plain": [
       "<Figure size 432x288 with 1 Axes>"
      ]
     },
     "metadata": {
      "needs_background": "light"
     },
     "output_type": "display_data"
    }
   ],
   "source": [
    "dfDirectorCnt = pd.DataFrame(dfRaw['director'].dropna().value_counts())\n",
    "sns.barplot(x = dfDirectorCnt.head()['director'].values, y = dfDirectorCnt.head().index.values)\n",
    "plt.xlabel('Número de trabalhos')\n",
    "plt.ylabel('Diretor')\n",
    "plt.title(\"Número de trabalhos por diretor\");"
   ]
  },
  {
   "cell_type": "markdown",
   "metadata": {},
   "source": [
    "### Qual é a duração média dos conteúdos?"
   ]
  },
  {
   "cell_type": "code",
   "execution_count": 7,
   "metadata": {},
   "outputs": [
    {
     "data": {
      "text/html": [
       "<div>\n",
       "<style scoped>\n",
       "    .dataframe tbody tr th:only-of-type {\n",
       "        vertical-align: middle;\n",
       "    }\n",
       "\n",
       "    .dataframe tbody tr th {\n",
       "        vertical-align: top;\n",
       "    }\n",
       "\n",
       "    .dataframe thead th {\n",
       "        text-align: right;\n",
       "    }\n",
       "</style>\n",
       "<table border=\"1\" class=\"dataframe\">\n",
       "  <thead>\n",
       "    <tr style=\"text-align: right;\">\n",
       "      <th></th>\n",
       "      <th>min</th>\n",
       "      <th>max</th>\n",
       "      <th>mean</th>\n",
       "      <th>median</th>\n",
       "      <th>mode</th>\n",
       "    </tr>\n",
       "    <tr>\n",
       "      <th>type</th>\n",
       "      <th></th>\n",
       "      <th></th>\n",
       "      <th></th>\n",
       "      <th></th>\n",
       "      <th></th>\n",
       "    </tr>\n",
       "  </thead>\n",
       "  <tbody>\n",
       "    <tr>\n",
       "      <th>Movie</th>\n",
       "      <td>0</td>\n",
       "      <td>601</td>\n",
       "      <td>91.311876</td>\n",
       "      <td>91</td>\n",
       "      <td>([90], [223])</td>\n",
       "    </tr>\n",
       "    <tr>\n",
       "      <th>TV Show</th>\n",
       "      <td>1</td>\n",
       "      <td>29</td>\n",
       "      <td>1.723301</td>\n",
       "      <td>1</td>\n",
       "      <td>([1], [1342])</td>\n",
       "    </tr>\n",
       "  </tbody>\n",
       "</table>\n",
       "</div>"
      ],
      "text/plain": [
       "         min  max       mean  median           mode\n",
       "type                                               \n",
       "Movie      0  601  91.311876      91  ([90], [223])\n",
       "TV Show    1   29   1.723301       1  ([1], [1342])"
      ]
     },
     "execution_count": 7,
     "metadata": {},
     "output_type": "execute_result"
    }
   ],
   "source": [
    "dfAnalysis = dfRaw.copy()\n",
    "dfAnalysis['DurationNum'] = dfAnalysis['duration'].map(lambda x: re.split(\" \", x)[0]).astype(int)\n",
    "dfAnalysis['DurationType'] = dfAnalysis['duration'].map(lambda x: re.split(\" \", x)[1])\n",
    "dfAnalysis['DurationType'].replace(to_replace='Season', value='Seasons', inplace=True)\n",
    "\n",
    "dfDuration = dfAnalysis.groupby(\"type\")['DurationNum'].agg([min, max, np.mean, np.median,mode])\n",
    "dfDuration"
   ]
  },
  {
   "cell_type": "code",
   "execution_count": 8,
   "metadata": {},
   "outputs": [
    {
     "data": {
      "image/png": "[encoded data removed]",
      "text/plain": [
       "<Figure size 864x864 with 4 Axes>"
      ]
     },
     "metadata": {
      "needs_background": "light"
     },
     "output_type": "display_data"
    }
   ],
   "source": [
    "fig, ax = plt.subplots(ncols=2, nrows=2, figsize = (12,12))\n",
    "\n",
    "\n",
    "sns.boxplot(y = 'DurationNum', data = dfAnalysis[dfAnalysis['type'] == 'Movie'], ax=ax[0,0])\n",
    "ax[0,0].set_title('Análise da duração dos filmes')\n",
    "ax[0,0].set_ylabel(\"Duração (min)\")\n",
    "\n",
    "sns.boxplot(y = 'DurationNum', data = dfAnalysis[dfAnalysis['type'] == 'TV Show'], ax=ax[0,1])\n",
    "ax[0,1].set_title('Análise da duração dos filmes')\n",
    "ax[0,1].set_ylabel(\"Duração (min)\")\n",
    "\n",
    "#sns.displot(dfAnalysis[dfAnalysis['type'] == 'Movie']['DurationNum'], ax=ax[1,0])\n",
    "sns.histplot(dfAnalysis[dfAnalysis['type'] == 'Movie']['DurationNum'], ax=ax[1,0])\n",
    "\n",
    "sns.histplot(dfAnalysis[dfAnalysis['type'] == 'TV Show']['DurationNum'], ax=ax[1,1])\n",
    "\n",
    "\n",
    "plt.tight_layout(pad=2)\n",
    "plt.show()\n"
   ]
  },
  {
   "cell_type": "markdown",
   "metadata": {},
   "source": [
    "#Escrever aqui a análise sobre a duração dos conteúdos em geral"
   ]
  },
  {
   "cell_type": "markdown",
   "metadata": {},
   "source": [
    "### Como os filmes estão listados? comédia, drama, suspense, etc..."
   ]
  },
  {
   "cell_type": "code",
   "execution_count": 9,
   "metadata": {},
   "outputs": [
    {
     "data": {
      "text/plain": [
       "0                  [Comedy,  Drama]\n",
       "1           [Drama,  International]\n",
       "2       [Action,  Drama,  Suspense]\n",
       "3                     [Documentary]\n",
       "4                 [Drama,  Fantasy]\n",
       "                   ...             \n",
       "9663                       [Comedy]\n",
       "9664                     [TV Shows]\n",
       "9665                       [Action]\n",
       "9666               [Drama,  Sports]\n",
       "9667    [Action,  Drama,  Suspense]\n",
       "Name: listed_in, Length: 9668, dtype: object"
      ]
     },
     "execution_count": 9,
     "metadata": {},
     "output_type": "execute_result"
    }
   ],
   "source": [
    "dfRaw['listed_in'].str.split(\",\")"
   ]
  },
  {
   "cell_type": "code",
   "execution_count": 10,
   "metadata": {},
   "outputs": [
    {
     "data": {
      "text/plain": [
       "Drama               3687\n",
       "Comedy              2099\n",
       "Action              1657\n",
       "Suspense            1501\n",
       "Kids                1085\n",
       "Documentary          993\n",
       "Special Interest     980\n",
       "Horror               875\n",
       "Romance              674\n",
       "Animation            547\n",
       "dtype: int64"
      ]
     },
     "execution_count": 10,
     "metadata": {},
     "output_type": "execute_result"
    }
   ],
   "source": [
    "listing = []\n",
    "for i in dfRaw['listed_in'].str.split(\",\"):\n",
    "    for s in i:\n",
    "        listing.append(re.sub(\"\\A \",\"\",s))\n",
    "serieListed = pd.Series(listing)\n",
    "serieListed.value_counts().head(10)"
   ]
  },
  {
   "cell_type": "code",
   "execution_count": 11,
   "metadata": {},
   "outputs": [
    {
     "data": {
      "text/plain": [
       "array(['Comedy', 'Drama', 'International', 'Action', 'Suspense',\n",
       "       'Documentary', 'Fantasy', 'Kids', 'Special Interest',\n",
       "       'Science Fiction', 'Adventure', 'Horror', 'Sports',\n",
       "       'Talk Show and Variety', 'Anime', 'Arts', 'Entertainment',\n",
       "       'and Culture', 'TV Shows', 'Animation',\n",
       "       'Music Videos and Concerts', 'Fitness', 'Faith and Spirituality',\n",
       "       'Military and War', 'Western', 'LGBTQ', 'Romance', 'Unscripted',\n",
       "       'Young Adult Audience', 'Arthouse', 'Historical'], dtype=object)"
      ]
     },
     "execution_count": 11,
     "metadata": {},
     "output_type": "execute_result"
    }
   ],
   "source": [
    "serieListed.unique()"
   ]
  },
  {
   "cell_type": "code",
   "execution_count": 12,
   "metadata": {},
   "outputs": [],
   "source": [
    "listing = []\n",
    "for i in dfRaw['listed_in'].str.split(\",\"):\n",
    "    list2 = []\n",
    "    for s in i:\n",
    "        list2.append(re.sub(\"\\A \",\"\",s))\n",
    "    listing.append(sorted(list2))\n",
    "listing\n",
    "df1 = pd.DataFrame({\"list\":listing})"
   ]
  },
  {
   "cell_type": "code",
   "execution_count": 13,
   "metadata": {},
   "outputs": [],
   "source": [
    "dfSplitedListing = pd.DataFrame(columns=serieListed.unique(), index=range(dfRaw.shape[0]))\n",
    "n = 0\n",
    "for i in df1['list']:\n",
    "    for element in i:\n",
    "        dfSplitedListing.loc[n,element] = True\n",
    "    n+=1\n",
    "dfSplitedListing.fillna(False, inplace = True)"
   ]
  },
  {
   "cell_type": "code",
   "execution_count": 14,
   "metadata": {},
   "outputs": [
    {
     "data": {
      "text/html": [
       "<div>\n",
       "<style scoped>\n",
       "    .dataframe tbody tr th:only-of-type {\n",
       "        vertical-align: middle;\n",
       "    }\n",
       "\n",
       "    .dataframe tbody tr th {\n",
       "        vertical-align: top;\n",
       "    }\n",
       "\n",
       "    .dataframe thead th {\n",
       "        text-align: right;\n",
       "    }\n",
       "</style>\n",
       "<table border=\"1\" class=\"dataframe\">\n",
       "  <thead>\n",
       "    <tr style=\"text-align: right;\">\n",
       "      <th></th>\n",
       "      <th>support</th>\n",
       "      <th>itemsets</th>\n",
       "      <th>length</th>\n",
       "    </tr>\n",
       "  </thead>\n",
       "  <tbody>\n",
       "    <tr>\n",
       "      <th>0</th>\n",
       "      <td>0.217108</td>\n",
       "      <td>(Comedy)</td>\n",
       "      <td>1</td>\n",
       "    </tr>\n",
       "    <tr>\n",
       "      <th>1</th>\n",
       "      <td>0.381361</td>\n",
       "      <td>(Drama)</td>\n",
       "      <td>1</td>\n",
       "    </tr>\n",
       "    <tr>\n",
       "      <th>2</th>\n",
       "      <td>0.036719</td>\n",
       "      <td>(International)</td>\n",
       "      <td>1</td>\n",
       "    </tr>\n",
       "    <tr>\n",
       "      <th>3</th>\n",
       "      <td>0.171390</td>\n",
       "      <td>(Action)</td>\n",
       "      <td>1</td>\n",
       "    </tr>\n",
       "    <tr>\n",
       "      <th>4</th>\n",
       "      <td>0.155254</td>\n",
       "      <td>(Suspense)</td>\n",
       "      <td>1</td>\n",
       "    </tr>\n",
       "    <tr>\n",
       "      <th>...</th>\n",
       "      <td>...</td>\n",
       "      <td>...</td>\n",
       "      <td>...</td>\n",
       "    </tr>\n",
       "    <tr>\n",
       "      <th>65</th>\n",
       "      <td>0.022342</td>\n",
       "      <td>(Special Interest, Arts, Comedy, and Culture)</td>\n",
       "      <td>4</td>\n",
       "    </tr>\n",
       "    <tr>\n",
       "      <th>66</th>\n",
       "      <td>0.022342</td>\n",
       "      <td>(Entertainment, Special Interest, Comedy, and ...</td>\n",
       "      <td>4</td>\n",
       "    </tr>\n",
       "    <tr>\n",
       "      <th>67</th>\n",
       "      <td>0.034237</td>\n",
       "      <td>(Entertainment, Arts, Comedy, and Culture)</td>\n",
       "      <td>4</td>\n",
       "    </tr>\n",
       "    <tr>\n",
       "      <th>68</th>\n",
       "      <td>0.022859</td>\n",
       "      <td>(Special Interest, Arts, Entertainment, and Cu...</td>\n",
       "      <td>4</td>\n",
       "    </tr>\n",
       "    <tr>\n",
       "      <th>69</th>\n",
       "      <td>0.022342</td>\n",
       "      <td>(Special Interest, Arts, Comedy, Entertainment...</td>\n",
       "      <td>5</td>\n",
       "    </tr>\n",
       "  </tbody>\n",
       "</table>\n",
       "<p>70 rows × 3 columns</p>\n",
       "</div>"
      ],
      "text/plain": [
       "     support                                           itemsets  length\n",
       "0   0.217108                                           (Comedy)       1\n",
       "1   0.381361                                            (Drama)       1\n",
       "2   0.036719                                    (International)       1\n",
       "3   0.171390                                           (Action)       1\n",
       "4   0.155254                                         (Suspense)       1\n",
       "..       ...                                                ...     ...\n",
       "65  0.022342      (Special Interest, Arts, Comedy, and Culture)       4\n",
       "66  0.022342  (Entertainment, Special Interest, Comedy, and ...       4\n",
       "67  0.034237         (Entertainment, Arts, Comedy, and Culture)       4\n",
       "68  0.022859  (Special Interest, Arts, Entertainment, and Cu...       4\n",
       "69  0.022342  (Special Interest, Arts, Comedy, Entertainment...       5\n",
       "\n",
       "[70 rows x 3 columns]"
      ]
     },
     "execution_count": 14,
     "metadata": {},
     "output_type": "execute_result"
    }
   ],
   "source": [
    "from mlxtend.frequent_patterns import apriori, association_rules\n",
    "associacoesFrequentes = apriori(dfSplitedListing, min_support = 0.01, use_colnames = True)\n",
    "associacoesFrequentes['length'] = associacoesFrequentes['itemsets'].apply(lambda x: len(x))\n",
    "\n",
    "associacoesFrequentes"
   ]
  },
  {
   "cell_type": "code",
   "execution_count": 15,
   "metadata": {},
   "outputs": [
    {
     "name": "stderr",
     "output_type": "stream",
     "text": [
      "c:\\Users\\RodrigoS\\Anaconda3\\lib\\site-packages\\ipykernel\\ipkernel.py:287: DeprecationWarning: `should_run_async` will not call `transform_cell` automatically in the future. Please pass the result to `transformed_cell` argument and any exception that happen during thetransform in `preprocessing_exc_tuple` in IPython 7.17 and above.\n",
      "  and should_run_async(code)\n"
     ]
    },
    {
     "data": {
      "text/html": [
       "<div>\n",
       "<style scoped>\n",
       "    .dataframe tbody tr th:only-of-type {\n",
       "        vertical-align: middle;\n",
       "    }\n",
       "\n",
       "    .dataframe tbody tr th {\n",
       "        vertical-align: top;\n",
       "    }\n",
       "\n",
       "    .dataframe thead th {\n",
       "        text-align: right;\n",
       "    }\n",
       "</style>\n",
       "<table border=\"1\" class=\"dataframe\">\n",
       "  <thead>\n",
       "    <tr style=\"text-align: right;\">\n",
       "      <th></th>\n",
       "      <th>support</th>\n",
       "      <th>itemsets</th>\n",
       "      <th>length</th>\n",
       "    </tr>\n",
       "  </thead>\n",
       "  <tbody>\n",
       "    <tr>\n",
       "      <th>23</th>\n",
       "      <td>0.065784</td>\n",
       "      <td>(Drama, Comedy)</td>\n",
       "      <td>2</td>\n",
       "    </tr>\n",
       "    <tr>\n",
       "      <th>28</th>\n",
       "      <td>0.034237</td>\n",
       "      <td>(Arts, Comedy)</td>\n",
       "      <td>2</td>\n",
       "    </tr>\n",
       "    <tr>\n",
       "      <th>29</th>\n",
       "      <td>0.034237</td>\n",
       "      <td>(Entertainment, Comedy)</td>\n",
       "      <td>2</td>\n",
       "    </tr>\n",
       "    <tr>\n",
       "      <th>30</th>\n",
       "      <td>0.034237</td>\n",
       "      <td>(Comedy, and Culture)</td>\n",
       "      <td>2</td>\n",
       "    </tr>\n",
       "    <tr>\n",
       "      <th>33</th>\n",
       "      <td>0.066612</td>\n",
       "      <td>(Drama, Action)</td>\n",
       "      <td>2</td>\n",
       "    </tr>\n",
       "    <tr>\n",
       "      <th>34</th>\n",
       "      <td>0.076127</td>\n",
       "      <td>(Suspense, Drama)</td>\n",
       "      <td>2</td>\n",
       "    </tr>\n",
       "    <tr>\n",
       "      <th>39</th>\n",
       "      <td>0.040960</td>\n",
       "      <td>(Drama, Romance)</td>\n",
       "      <td>2</td>\n",
       "    </tr>\n",
       "    <tr>\n",
       "      <th>40</th>\n",
       "      <td>0.036926</td>\n",
       "      <td>(Suspense, Action)</td>\n",
       "      <td>2</td>\n",
       "    </tr>\n",
       "    <tr>\n",
       "      <th>43</th>\n",
       "      <td>0.035064</td>\n",
       "      <td>(Suspense, Horror)</td>\n",
       "      <td>2</td>\n",
       "    </tr>\n",
       "    <tr>\n",
       "      <th>44</th>\n",
       "      <td>0.040443</td>\n",
       "      <td>(Special Interest, Documentary)</td>\n",
       "      <td>2</td>\n",
       "    </tr>\n",
       "    <tr>\n",
       "      <th>45</th>\n",
       "      <td>0.049235</td>\n",
       "      <td>(Animation, Kids)</td>\n",
       "      <td>2</td>\n",
       "    </tr>\n",
       "    <tr>\n",
       "      <th>50</th>\n",
       "      <td>0.049959</td>\n",
       "      <td>(Arts, Entertainment)</td>\n",
       "      <td>2</td>\n",
       "    </tr>\n",
       "    <tr>\n",
       "      <th>51</th>\n",
       "      <td>0.049959</td>\n",
       "      <td>(Arts, and Culture)</td>\n",
       "      <td>2</td>\n",
       "    </tr>\n",
       "    <tr>\n",
       "      <th>52</th>\n",
       "      <td>0.049959</td>\n",
       "      <td>(Entertainment, and Culture)</td>\n",
       "      <td>2</td>\n",
       "    </tr>\n",
       "    <tr>\n",
       "      <th>56</th>\n",
       "      <td>0.034237</td>\n",
       "      <td>(Entertainment, Arts, Comedy)</td>\n",
       "      <td>3</td>\n",
       "    </tr>\n",
       "    <tr>\n",
       "      <th>57</th>\n",
       "      <td>0.034237</td>\n",
       "      <td>(Arts, Comedy, and Culture)</td>\n",
       "      <td>3</td>\n",
       "    </tr>\n",
       "    <tr>\n",
       "      <th>58</th>\n",
       "      <td>0.034237</td>\n",
       "      <td>(Entertainment, Comedy, and Culture)</td>\n",
       "      <td>3</td>\n",
       "    </tr>\n",
       "    <tr>\n",
       "      <th>63</th>\n",
       "      <td>0.049959</td>\n",
       "      <td>(Arts, Entertainment, and Culture)</td>\n",
       "      <td>3</td>\n",
       "    </tr>\n",
       "    <tr>\n",
       "      <th>67</th>\n",
       "      <td>0.034237</td>\n",
       "      <td>(Entertainment, Arts, Comedy, and Culture)</td>\n",
       "      <td>4</td>\n",
       "    </tr>\n",
       "  </tbody>\n",
       "</table>\n",
       "</div>"
      ],
      "text/plain": [
       "     support                                    itemsets  length\n",
       "23  0.065784                             (Drama, Comedy)       2\n",
       "28  0.034237                              (Arts, Comedy)       2\n",
       "29  0.034237                     (Entertainment, Comedy)       2\n",
       "30  0.034237                       (Comedy, and Culture)       2\n",
       "33  0.066612                             (Drama, Action)       2\n",
       "34  0.076127                           (Suspense, Drama)       2\n",
       "39  0.040960                            (Drama, Romance)       2\n",
       "40  0.036926                          (Suspense, Action)       2\n",
       "43  0.035064                          (Suspense, Horror)       2\n",
       "44  0.040443             (Special Interest, Documentary)       2\n",
       "45  0.049235                           (Animation, Kids)       2\n",
       "50  0.049959                       (Arts, Entertainment)       2\n",
       "51  0.049959                         (Arts, and Culture)       2\n",
       "52  0.049959                (Entertainment, and Culture)       2\n",
       "56  0.034237               (Entertainment, Arts, Comedy)       3\n",
       "57  0.034237                 (Arts, Comedy, and Culture)       3\n",
       "58  0.034237        (Entertainment, Comedy, and Culture)       3\n",
       "63  0.049959          (Arts, Entertainment, and Culture)       3\n",
       "67  0.034237  (Entertainment, Arts, Comedy, and Culture)       4"
      ]
     },
     "execution_count": 15,
     "metadata": {},
     "output_type": "execute_result"
    }
   ],
   "source": [
    "associacoesFrequentes[(associacoesFrequentes['length'] >= 2) & \n",
    "                    (associacoesFrequentes['support'] >= 0.03)]"
   ]
  },
  {
   "cell_type": "markdown",
   "metadata": {},
   "source": [
    "### Quais gêneros de filmes geralmente estão juntos"
   ]
  },
  {
   "cell_type": "code",
   "execution_count": 16,
   "metadata": {},
   "outputs": [
    {
     "name": "stderr",
     "output_type": "stream",
     "text": [
      "c:\\Users\\RodrigoS\\Anaconda3\\lib\\site-packages\\ipykernel\\ipkernel.py:287: DeprecationWarning: `should_run_async` will not call `transform_cell` automatically in the future. Please pass the result to `transformed_cell` argument and any exception that happen during thetransform in `preprocessing_exc_tuple` in IPython 7.17 and above.\n",
      "  and should_run_async(code)\n"
     ]
    },
    {
     "data": {
      "text/html": [
       "<div>\n",
       "<style scoped>\n",
       "    .dataframe tbody tr th:only-of-type {\n",
       "        vertical-align: middle;\n",
       "    }\n",
       "\n",
       "    .dataframe tbody tr th {\n",
       "        vertical-align: top;\n",
       "    }\n",
       "\n",
       "    .dataframe thead th {\n",
       "        text-align: right;\n",
       "    }\n",
       "</style>\n",
       "<table border=\"1\" class=\"dataframe\">\n",
       "  <thead>\n",
       "    <tr style=\"text-align: right;\">\n",
       "      <th></th>\n",
       "      <th>antecedents</th>\n",
       "      <th>consequents</th>\n",
       "      <th>antecedent support</th>\n",
       "      <th>consequent support</th>\n",
       "      <th>support</th>\n",
       "      <th>confidence</th>\n",
       "      <th>lift</th>\n",
       "      <th>leverage</th>\n",
       "      <th>conviction</th>\n",
       "      <th>antecedents_length</th>\n",
       "      <th>consequents_length</th>\n",
       "    </tr>\n",
       "  </thead>\n",
       "  <tbody>\n",
       "    <tr>\n",
       "      <th>123</th>\n",
       "      <td>(Comedy, and Culture)</td>\n",
       "      <td>(Special Interest, Arts)</td>\n",
       "      <td>0.034237</td>\n",
       "      <td>0.022859</td>\n",
       "      <td>0.022342</td>\n",
       "      <td>0.652568</td>\n",
       "      <td>28.547634</td>\n",
       "      <td>0.021559</td>\n",
       "      <td>2.812467</td>\n",
       "      <td>2</td>\n",
       "      <td>2</td>\n",
       "    </tr>\n",
       "    <tr>\n",
       "      <th>182</th>\n",
       "      <td>(Arts, Comedy, and Culture)</td>\n",
       "      <td>(Special Interest, Entertainment)</td>\n",
       "      <td>0.034237</td>\n",
       "      <td>0.022859</td>\n",
       "      <td>0.022342</td>\n",
       "      <td>0.652568</td>\n",
       "      <td>28.547634</td>\n",
       "      <td>0.021559</td>\n",
       "      <td>2.812467</td>\n",
       "      <td>3</td>\n",
       "      <td>2</td>\n",
       "    </tr>\n",
       "    <tr>\n",
       "      <th>107</th>\n",
       "      <td>(Special Interest, Arts)</td>\n",
       "      <td>(Comedy, Entertainment)</td>\n",
       "      <td>0.022859</td>\n",
       "      <td>0.034237</td>\n",
       "      <td>0.022342</td>\n",
       "      <td>0.977376</td>\n",
       "      <td>28.547634</td>\n",
       "      <td>0.021559</td>\n",
       "      <td>42.686740</td>\n",
       "      <td>2</td>\n",
       "      <td>2</td>\n",
       "    </tr>\n",
       "    <tr>\n",
       "      <th>106</th>\n",
       "      <td>(Comedy, Entertainment)</td>\n",
       "      <td>(Special Interest, Arts)</td>\n",
       "      <td>0.034237</td>\n",
       "      <td>0.022859</td>\n",
       "      <td>0.022342</td>\n",
       "      <td>0.652568</td>\n",
       "      <td>28.547634</td>\n",
       "      <td>0.021559</td>\n",
       "      <td>2.812467</td>\n",
       "      <td>2</td>\n",
       "      <td>2</td>\n",
       "    </tr>\n",
       "    <tr>\n",
       "      <th>104</th>\n",
       "      <td>(Special Interest, Entertainment)</td>\n",
       "      <td>(Arts, Comedy)</td>\n",
       "      <td>0.022859</td>\n",
       "      <td>0.034237</td>\n",
       "      <td>0.022342</td>\n",
       "      <td>0.977376</td>\n",
       "      <td>28.547634</td>\n",
       "      <td>0.021559</td>\n",
       "      <td>42.686740</td>\n",
       "      <td>2</td>\n",
       "      <td>2</td>\n",
       "    </tr>\n",
       "    <tr>\n",
       "      <th>118</th>\n",
       "      <td>(Special Interest, Arts)</td>\n",
       "      <td>(Comedy, and Culture)</td>\n",
       "      <td>0.022859</td>\n",
       "      <td>0.034237</td>\n",
       "      <td>0.022342</td>\n",
       "      <td>0.977376</td>\n",
       "      <td>28.547634</td>\n",
       "      <td>0.021559</td>\n",
       "      <td>42.686740</td>\n",
       "      <td>2</td>\n",
       "      <td>2</td>\n",
       "    </tr>\n",
       "    <tr>\n",
       "      <th>120</th>\n",
       "      <td>(Special Interest, and Culture)</td>\n",
       "      <td>(Arts, Comedy)</td>\n",
       "      <td>0.022859</td>\n",
       "      <td>0.034237</td>\n",
       "      <td>0.022342</td>\n",
       "      <td>0.977376</td>\n",
       "      <td>28.547634</td>\n",
       "      <td>0.021559</td>\n",
       "      <td>42.686740</td>\n",
       "      <td>2</td>\n",
       "      <td>2</td>\n",
       "    </tr>\n",
       "    <tr>\n",
       "      <th>176</th>\n",
       "      <td>(Special Interest, Arts, Entertainment)</td>\n",
       "      <td>(Comedy, and Culture)</td>\n",
       "      <td>0.022859</td>\n",
       "      <td>0.034237</td>\n",
       "      <td>0.022342</td>\n",
       "      <td>0.977376</td>\n",
       "      <td>28.547634</td>\n",
       "      <td>0.021559</td>\n",
       "      <td>42.686740</td>\n",
       "      <td>3</td>\n",
       "      <td>2</td>\n",
       "    </tr>\n",
       "    <tr>\n",
       "      <th>121</th>\n",
       "      <td>(Arts, Comedy)</td>\n",
       "      <td>(Special Interest, and Culture)</td>\n",
       "      <td>0.034237</td>\n",
       "      <td>0.022859</td>\n",
       "      <td>0.022342</td>\n",
       "      <td>0.652568</td>\n",
       "      <td>28.547634</td>\n",
       "      <td>0.021559</td>\n",
       "      <td>2.812467</td>\n",
       "      <td>2</td>\n",
       "      <td>2</td>\n",
       "    </tr>\n",
       "    <tr>\n",
       "      <th>177</th>\n",
       "      <td>(Special Interest, Arts, and Culture)</td>\n",
       "      <td>(Entertainment, Comedy)</td>\n",
       "      <td>0.022859</td>\n",
       "      <td>0.034237</td>\n",
       "      <td>0.022342</td>\n",
       "      <td>0.977376</td>\n",
       "      <td>28.547634</td>\n",
       "      <td>0.021559</td>\n",
       "      <td>42.686740</td>\n",
       "      <td>3</td>\n",
       "      <td>2</td>\n",
       "    </tr>\n",
       "  </tbody>\n",
       "</table>\n",
       "</div>"
      ],
      "text/plain": [
       "                                 antecedents  \\\n",
       "123                    (Comedy, and Culture)   \n",
       "182              (Arts, Comedy, and Culture)   \n",
       "107                 (Special Interest, Arts)   \n",
       "106                  (Comedy, Entertainment)   \n",
       "104        (Special Interest, Entertainment)   \n",
       "118                 (Special Interest, Arts)   \n",
       "120          (Special Interest, and Culture)   \n",
       "176  (Special Interest, Arts, Entertainment)   \n",
       "121                           (Arts, Comedy)   \n",
       "177    (Special Interest, Arts, and Culture)   \n",
       "\n",
       "                           consequents  antecedent support  \\\n",
       "123           (Special Interest, Arts)            0.034237   \n",
       "182  (Special Interest, Entertainment)            0.034237   \n",
       "107            (Comedy, Entertainment)            0.022859   \n",
       "106           (Special Interest, Arts)            0.034237   \n",
       "104                     (Arts, Comedy)            0.022859   \n",
       "118              (Comedy, and Culture)            0.022859   \n",
       "120                     (Arts, Comedy)            0.022859   \n",
       "176              (Comedy, and Culture)            0.022859   \n",
       "121    (Special Interest, and Culture)            0.034237   \n",
       "177            (Entertainment, Comedy)            0.022859   \n",
       "\n",
       "     consequent support   support  confidence       lift  leverage  \\\n",
       "123            0.022859  0.022342    0.652568  28.547634  0.021559   \n",
       "182            0.022859  0.022342    0.652568  28.547634  0.021559   \n",
       "107            0.034237  0.022342    0.977376  28.547634  0.021559   \n",
       "106            0.022859  0.022342    0.652568  28.547634  0.021559   \n",
       "104            0.034237  0.022342    0.977376  28.547634  0.021559   \n",
       "118            0.034237  0.022342    0.977376  28.547634  0.021559   \n",
       "120            0.034237  0.022342    0.977376  28.547634  0.021559   \n",
       "176            0.034237  0.022342    0.977376  28.547634  0.021559   \n",
       "121            0.022859  0.022342    0.652568  28.547634  0.021559   \n",
       "177            0.034237  0.022342    0.977376  28.547634  0.021559   \n",
       "\n",
       "     conviction  antecedents_length  consequents_length  \n",
       "123    2.812467                   2                   2  \n",
       "182    2.812467                   3                   2  \n",
       "107   42.686740                   2                   2  \n",
       "106    2.812467                   2                   2  \n",
       "104   42.686740                   2                   2  \n",
       "118   42.686740                   2                   2  \n",
       "120   42.686740                   2                   2  \n",
       "176   42.686740                   3                   2  \n",
       "121    2.812467                   2                   2  \n",
       "177   42.686740                   3                   2  "
      ]
     },
     "execution_count": 16,
     "metadata": {},
     "output_type": "execute_result"
    }
   ],
   "source": [
    "rules = association_rules(associacoesFrequentes, metric=\"lift\", min_threshold=1.2)\n",
    "rules[\"antecedents_length\"] = rules[\"antecedents\"].apply(lambda x: len(x))\n",
    "rules[\"consequents_length\"] = rules[\"consequents\"].apply(lambda x: len(x))\n",
    "rules.sort_values(\"lift\",ascending=False).head(10)"
   ]
  },
  {
   "cell_type": "markdown",
   "metadata": {},
   "source": [
    "### Quais atores trabalham com mais frequência nos filmes da Amazon?"
   ]
  },
  {
   "cell_type": "code",
   "execution_count": 17,
   "metadata": {},
   "outputs": [
    {
     "name": "stderr",
     "output_type": "stream",
     "text": [
      "c:\\Users\\RodrigoS\\Anaconda3\\lib\\site-packages\\ipykernel\\ipkernel.py:287: DeprecationWarning: `should_run_async` will not call `transform_cell` automatically in the future. Please pass the result to `transformed_cell` argument and any exception that happen during thetransform in `preprocessing_exc_tuple` in IPython 7.17 and above.\n",
      "  and should_run_async(code)\n"
     ]
    },
    {
     "data": {
      "text/html": [
       "<div>\n",
       "<style scoped>\n",
       "    .dataframe tbody tr th:only-of-type {\n",
       "        vertical-align: middle;\n",
       "    }\n",
       "\n",
       "    .dataframe tbody tr th {\n",
       "        vertical-align: top;\n",
       "    }\n",
       "\n",
       "    .dataframe thead th {\n",
       "        text-align: right;\n",
       "    }\n",
       "</style>\n",
       "<table border=\"1\" class=\"dataframe\">\n",
       "  <thead>\n",
       "    <tr style=\"text-align: right;\">\n",
       "      <th></th>\n",
       "      <th>show_id</th>\n",
       "      <th>type</th>\n",
       "      <th>title</th>\n",
       "      <th>director</th>\n",
       "      <th>cast</th>\n",
       "      <th>country</th>\n",
       "      <th>date_added</th>\n",
       "      <th>release_year</th>\n",
       "      <th>rating</th>\n",
       "      <th>duration</th>\n",
       "      <th>listed_in</th>\n",
       "      <th>description</th>\n",
       "    </tr>\n",
       "  </thead>\n",
       "  <tbody>\n",
       "    <tr>\n",
       "      <th>0</th>\n",
       "      <td>s1</td>\n",
       "      <td>Movie</td>\n",
       "      <td>The Grand Seduction</td>\n",
       "      <td>Don McKellar</td>\n",
       "      <td>Brendan Gleeson, Taylor Kitsch, Gordon Pinsent</td>\n",
       "      <td>Canada</td>\n",
       "      <td>March 30, 2021</td>\n",
       "      <td>2014</td>\n",
       "      <td>NaN</td>\n",
       "      <td>113 min</td>\n",
       "      <td>Comedy, Drama</td>\n",
       "      <td>A small fishing village must procure a local d...</td>\n",
       "    </tr>\n",
       "    <tr>\n",
       "      <th>1</th>\n",
       "      <td>s2</td>\n",
       "      <td>Movie</td>\n",
       "      <td>Take Care Good Night</td>\n",
       "      <td>Girish Joshi</td>\n",
       "      <td>Mahesh Manjrekar, Abhay Mahajan, Sachin Khedekar</td>\n",
       "      <td>India</td>\n",
       "      <td>March 30, 2021</td>\n",
       "      <td>2018</td>\n",
       "      <td>13+</td>\n",
       "      <td>110 min</td>\n",
       "      <td>Drama, International</td>\n",
       "      <td>A Metro Family decides to fight a Cyber Crimin...</td>\n",
       "    </tr>\n",
       "    <tr>\n",
       "      <th>2</th>\n",
       "      <td>s3</td>\n",
       "      <td>Movie</td>\n",
       "      <td>Secrets of Deception</td>\n",
       "      <td>Josh Webber</td>\n",
       "      <td>Tom Sizemore, Lorenzo Lamas, Robert LaSardo, R...</td>\n",
       "      <td>United States</td>\n",
       "      <td>March 30, 2021</td>\n",
       "      <td>2017</td>\n",
       "      <td>NaN</td>\n",
       "      <td>74 min</td>\n",
       "      <td>Action, Drama, Suspense</td>\n",
       "      <td>After a man discovers his wife is cheating on ...</td>\n",
       "    </tr>\n",
       "    <tr>\n",
       "      <th>3</th>\n",
       "      <td>s4</td>\n",
       "      <td>Movie</td>\n",
       "      <td>Pink: Staying True</td>\n",
       "      <td>Sonia Anderson</td>\n",
       "      <td>Interviews with: Pink, Adele, Beyoncé, Britney...</td>\n",
       "      <td>United States</td>\n",
       "      <td>March 30, 2021</td>\n",
       "      <td>2014</td>\n",
       "      <td>NaN</td>\n",
       "      <td>69 min</td>\n",
       "      <td>Documentary</td>\n",
       "      <td>Pink breaks the mold once again, bringing her ...</td>\n",
       "    </tr>\n",
       "    <tr>\n",
       "      <th>4</th>\n",
       "      <td>s5</td>\n",
       "      <td>Movie</td>\n",
       "      <td>Monster Maker</td>\n",
       "      <td>Giles Foster</td>\n",
       "      <td>Harry Dean Stanton, Kieran O'Brien, George Cos...</td>\n",
       "      <td>United Kingdom</td>\n",
       "      <td>March 30, 2021</td>\n",
       "      <td>1989</td>\n",
       "      <td>NaN</td>\n",
       "      <td>45 min</td>\n",
       "      <td>Drama, Fantasy</td>\n",
       "      <td>Teenage Matt Banting wants to work with a famo...</td>\n",
       "    </tr>\n",
       "  </tbody>\n",
       "</table>\n",
       "</div>"
      ],
      "text/plain": [
       "  show_id   type                 title        director  \\\n",
       "0      s1  Movie   The Grand Seduction    Don McKellar   \n",
       "1      s2  Movie  Take Care Good Night    Girish Joshi   \n",
       "2      s3  Movie  Secrets of Deception     Josh Webber   \n",
       "3      s4  Movie    Pink: Staying True  Sonia Anderson   \n",
       "4      s5  Movie         Monster Maker    Giles Foster   \n",
       "\n",
       "                                                cast         country  \\\n",
       "0     Brendan Gleeson, Taylor Kitsch, Gordon Pinsent          Canada   \n",
       "1   Mahesh Manjrekar, Abhay Mahajan, Sachin Khedekar           India   \n",
       "2  Tom Sizemore, Lorenzo Lamas, Robert LaSardo, R...   United States   \n",
       "3  Interviews with: Pink, Adele, Beyoncé, Britney...   United States   \n",
       "4  Harry Dean Stanton, Kieran O'Brien, George Cos...  United Kingdom   \n",
       "\n",
       "       date_added  release_year rating duration                listed_in  \\\n",
       "0  March 30, 2021          2014    NaN  113 min            Comedy, Drama   \n",
       "1  March 30, 2021          2018    13+  110 min     Drama, International   \n",
       "2  March 30, 2021          2017    NaN   74 min  Action, Drama, Suspense   \n",
       "3  March 30, 2021          2014    NaN   69 min              Documentary   \n",
       "4  March 30, 2021          1989    NaN   45 min           Drama, Fantasy   \n",
       "\n",
       "                                         description  \n",
       "0  A small fishing village must procure a local d...  \n",
       "1  A Metro Family decides to fight a Cyber Crimin...  \n",
       "2  After a man discovers his wife is cheating on ...  \n",
       "3  Pink breaks the mold once again, bringing her ...  \n",
       "4  Teenage Matt Banting wants to work with a famo...  "
      ]
     },
     "execution_count": 17,
     "metadata": {},
     "output_type": "execute_result"
    }
   ],
   "source": [
    "dfRaw.head()"
   ]
  },
  {
   "cell_type": "code",
   "execution_count": 18,
   "metadata": {},
   "outputs": [
    {
     "name": "stderr",
     "output_type": "stream",
     "text": [
      "c:\\Users\\RodrigoS\\Anaconda3\\lib\\site-packages\\ipykernel\\ipkernel.py:287: DeprecationWarning: `should_run_async` will not call `transform_cell` automatically in the future. Please pass the result to `transformed_cell` argument and any exception that happen during thetransform in `preprocessing_exc_tuple` in IPython 7.17 and above.\n",
      "  and should_run_async(code)\n"
     ]
    },
    {
     "data": {
      "text/plain": [
       "dtype('O')"
      ]
     },
     "execution_count": 18,
     "metadata": {},
     "output_type": "execute_result"
    }
   ],
   "source": [
    "dfCopy = dfRaw.copy()\n",
    "dfCopy['cast'].dtype"
   ]
  },
  {
   "cell_type": "code",
   "execution_count": 19,
   "metadata": {},
   "outputs": [
    {
     "name": "stderr",
     "output_type": "stream",
     "text": [
      "c:\\Users\\RodrigoS\\Anaconda3\\lib\\site-packages\\ipykernel\\ipkernel.py:287: DeprecationWarning: `should_run_async` will not call `transform_cell` automatically in the future. Please pass the result to `transformed_cell` argument and any exception that happen during thetransform in `preprocessing_exc_tuple` in IPython 7.17 and above.\n",
      "  and should_run_async(code)\n"
     ]
    },
    {
     "data": {
      "text/plain": [
       "0       [Brendan Gleeson,  Taylor Kitsch,  Gordon Pins...\n",
       "1       [Mahesh Manjrekar,  Abhay Mahajan,  Sachin Khe...\n",
       "2       [Tom Sizemore,  Lorenzo Lamas,  Robert LaSardo...\n",
       "3       [Interviews with: Pink,  Adele,  Beyoncé,  Bri...\n",
       "4       [Harry Dean Stanton,  Kieran O'Brien,  George ...\n",
       "                              ...                        \n",
       "9663                          [Leo Gorcey,  Bobby Jordan]\n",
       "9664    [DICK VOSBURGH,  RONNIE STEVENS,  LIBBY MORRIS...\n",
       "9665    [Ray Stevenson,  Julian Wadham,  Richard Brake...\n",
       "9666    [Esteban Recagno,  Ezequiel Stremiz,  Luciano ...\n",
       "9667    [Michael Caine,  Emily Mortimer,  Joseph Gilgu...\n",
       "Name: cast, Length: 9668, dtype: object"
      ]
     },
     "execution_count": 19,
     "metadata": {},
     "output_type": "execute_result"
    }
   ],
   "source": [
    "dfCopy['cast'].str.split(',')"
   ]
  },
  {
   "cell_type": "code",
   "execution_count": 20,
   "metadata": {},
   "outputs": [
    {
     "name": "stderr",
     "output_type": "stream",
     "text": [
      "c:\\Users\\RodrigoS\\Anaconda3\\lib\\site-packages\\ipykernel\\ipkernel.py:287: DeprecationWarning: `should_run_async` will not call `transform_cell` automatically in the future. Please pass the result to `transformed_cell` argument and any exception that happen during thetransform in `preprocessing_exc_tuple` in IPython 7.17 and above.\n",
      "  and should_run_async(code)\n"
     ]
    },
    {
     "data": {
      "image/png": "[encoded data removed]",
      "text/plain": [
       "<Figure size 432x288 with 1 Axes>"
      ]
     },
     "metadata": {
      "needs_background": "light"
     },
     "output_type": "display_data"
    }
   ],
   "source": [
    "dfCopy = dfRaw.copy()\n",
    "atores = []\n",
    "try:\n",
    "\n",
    "    for splits in dfCopy['cast'].dropna().str.split(','):\n",
    "        for split in list(splits):\n",
    "        #atores.append(re.sub(\"\\A \",\"\",split))\n",
    "            atores.append(split)\n",
    "\n",
    "except:\n",
    "    print(splits)\n",
    "    print(split)\n",
    "sAtores = pd.Series(atores)\n",
    "sAtores.replace({'nan':np.nan, \"1\": np.nan}, inplace=True)\n",
    "sAtores.dropna().value_counts().head(5).plot.barh();"
   ]
  },
  {
   "cell_type": "markdown",
   "metadata": {},
   "source": [
    "### dos principais diretores, qual o rating de seus trabalhos?"
   ]
  },
  {
   "cell_type": "code",
   "execution_count": 21,
   "metadata": {},
   "outputs": [
    {
     "name": "stderr",
     "output_type": "stream",
     "text": [
      "c:\\Users\\RodrigoS\\Anaconda3\\lib\\site-packages\\ipykernel\\ipkernel.py:287: DeprecationWarning: `should_run_async` will not call `transform_cell` automatically in the future. Please pass the result to `transformed_cell` argument and any exception that happen during thetransform in `preprocessing_exc_tuple` in IPython 7.17 and above.\n",
      "  and should_run_async(code)\n"
     ]
    },
    {
     "data": {
      "text/plain": [
       "Mark Knight              113\n",
       "Cannis Holder             61\n",
       "Moonbug Entertainment     37\n",
       "Jay Chapman               34\n",
       "Arthur van Merwijk        30\n",
       "Manny Rodriguez           22\n",
       "John English              20\n",
       "Name: director, dtype: int64"
      ]
     },
     "execution_count": 21,
     "metadata": {},
     "output_type": "execute_result"
    }
   ],
   "source": [
    "dfCopy['director'].value_counts().head(7)"
   ]
  },
  {
   "cell_type": "code",
   "execution_count": 22,
   "metadata": {},
   "outputs": [
    {
     "name": "stderr",
     "output_type": "stream",
     "text": [
      "c:\\Users\\RodrigoS\\Anaconda3\\lib\\site-packages\\ipykernel\\ipkernel.py:287: DeprecationWarning: `should_run_async` will not call `transform_cell` automatically in the future. Please pass the result to `transformed_cell` argument and any exception that happen during thetransform in `preprocessing_exc_tuple` in IPython 7.17 and above.\n",
      "  and should_run_async(code)\n"
     ]
    },
    {
     "data": {
      "text/html": [
       "<style  type=\"text/css\" >\n",
       "#T_9904c_row0_col0{\n",
       "            background-color:  #a9d3a9;\n",
       "            color:  #000000;\n",
       "        }#T_9904c_row1_col0{\n",
       "            background-color:  #65b265;\n",
       "            color:  #000000;\n",
       "        }#T_9904c_row2_col0,#T_9904c_row4_col0,#T_9904c_row8_col0{\n",
       "            background-color:  #ebf3eb;\n",
       "            color:  #000000;\n",
       "        }#T_9904c_row3_col0,#T_9904c_row9_col0{\n",
       "            background-color:  #bcdcbc;\n",
       "            color:  #000000;\n",
       "        }#T_9904c_row5_col0{\n",
       "            background-color:  #d2e7d2;\n",
       "            color:  #000000;\n",
       "        }#T_9904c_row6_col0{\n",
       "            background-color:  #e4f0e4;\n",
       "            color:  #000000;\n",
       "        }#T_9904c_row7_col0{\n",
       "            background-color:  #e7f1e7;\n",
       "            color:  #000000;\n",
       "        }#T_9904c_row10_col0{\n",
       "            background-color:  #008000;\n",
       "            color:  #f1f1f1;\n",
       "        }#T_9904c_row11_col0{\n",
       "            background-color:  #9acb9a;\n",
       "            color:  #000000;\n",
       "        }</style><table id=\"T_9904c_\" ><thead>    <tr>        <th class=\"blank\" ></th>        <th class=\"blank level0\" ></th>        <th class=\"col_heading level0 col0\" >Contagem</th>    </tr>    <tr>        <th class=\"index_name level0\" >director</th>        <th class=\"index_name level1\" >rating</th>        <th class=\"blank\" ></th>    </tr></thead><tbody>\n",
       "                <tr>\n",
       "                        <th id=\"T_9904c_level0_row0\" class=\"row_heading level0 row0\" >Arthur van Merwijk</th>\n",
       "                        <th id=\"T_9904c_level1_row0\" class=\"row_heading level1 row0\" >ALL</th>\n",
       "                        <td id=\"T_9904c_row0_col0\" class=\"data row0 col0\" >30</td>\n",
       "            </tr>\n",
       "            <tr>\n",
       "                        <th id=\"T_9904c_level0_row1\" class=\"row_heading level0 row1\" rowspan=\"2\">Cannis Holder</th>\n",
       "                        <th id=\"T_9904c_level1_row1\" class=\"row_heading level1 row1\" >ALL</th>\n",
       "                        <td id=\"T_9904c_row1_col0\" class=\"data row1 col0\" >60</td>\n",
       "            </tr>\n",
       "            <tr>\n",
       "                                <th id=\"T_9904c_level1_row2\" class=\"row_heading level1 row2\" >ALL_AGES</th>\n",
       "                        <td id=\"T_9904c_row2_col0\" class=\"data row2 col0\" >1</td>\n",
       "            </tr>\n",
       "            <tr>\n",
       "                        <th id=\"T_9904c_level0_row3\" class=\"row_heading level0 row3\" rowspan=\"2\">Jay Chapman</th>\n",
       "                        <th id=\"T_9904c_level1_row3\" class=\"row_heading level1 row3\" >18+</th>\n",
       "                        <td id=\"T_9904c_row3_col0\" class=\"data row3 col0\" >22</td>\n",
       "            </tr>\n",
       "            <tr>\n",
       "                                <th id=\"T_9904c_level1_row4\" class=\"row_heading level1 row4\" >16+</th>\n",
       "                        <td id=\"T_9904c_row4_col0\" class=\"data row4 col0\" >1</td>\n",
       "            </tr>\n",
       "            <tr>\n",
       "                        <th id=\"T_9904c_level0_row5\" class=\"row_heading level0 row5\" rowspan=\"4\">John English</th>\n",
       "                        <th id=\"T_9904c_level1_row5\" class=\"row_heading level1 row5\" >13+</th>\n",
       "                        <td id=\"T_9904c_row5_col0\" class=\"data row5 col0\" >12</td>\n",
       "            </tr>\n",
       "            <tr>\n",
       "                                <th id=\"T_9904c_level1_row6\" class=\"row_heading level1 row6\" >7+</th>\n",
       "                        <td id=\"T_9904c_row6_col0\" class=\"data row6 col0\" >4</td>\n",
       "            </tr>\n",
       "            <tr>\n",
       "                                <th id=\"T_9904c_level1_row7\" class=\"row_heading level1 row7\" >NR</th>\n",
       "                        <td id=\"T_9904c_row7_col0\" class=\"data row7 col0\" >3</td>\n",
       "            </tr>\n",
       "            <tr>\n",
       "                                <th id=\"T_9904c_level1_row8\" class=\"row_heading level1 row8\" >16+</th>\n",
       "                        <td id=\"T_9904c_row8_col0\" class=\"data row8 col0\" >1</td>\n",
       "            </tr>\n",
       "            <tr>\n",
       "                        <th id=\"T_9904c_level0_row9\" class=\"row_heading level0 row9\" >Manny Rodriguez</th>\n",
       "                        <th id=\"T_9904c_level1_row9\" class=\"row_heading level1 row9\" >18+</th>\n",
       "                        <td id=\"T_9904c_row9_col0\" class=\"data row9 col0\" >22</td>\n",
       "            </tr>\n",
       "            <tr>\n",
       "                        <th id=\"T_9904c_level0_row10\" class=\"row_heading level0 row10\" >Mark Knight</th>\n",
       "                        <th id=\"T_9904c_level1_row10\" class=\"row_heading level1 row10\" >ALL</th>\n",
       "                        <td id=\"T_9904c_row10_col0\" class=\"data row10 col0\" >105</td>\n",
       "            </tr>\n",
       "            <tr>\n",
       "                        <th id=\"T_9904c_level0_row11\" class=\"row_heading level0 row11\" >Moonbug Entertainment</th>\n",
       "                        <th id=\"T_9904c_level1_row11\" class=\"row_heading level1 row11\" >ALL</th>\n",
       "                        <td id=\"T_9904c_row11_col0\" class=\"data row11 col0\" >37</td>\n",
       "            </tr>\n",
       "    </tbody></table>"
      ],
      "text/plain": [
       "<pandas.io.formats.style.Styler at 0x256720ebaf0>"
      ]
     },
     "execution_count": 22,
     "metadata": {},
     "output_type": "execute_result"
    }
   ],
   "source": [
    "principaisDiretores = [x for x in dfCopy['director'].value_counts().head(7).index]\n",
    "dfRatPrincipaisDiretores =  pd.DataFrame(dfCopy[dfCopy['director'].isin(principaisDiretores)].groupby('director')['rating'].value_counts()).rename({\"rating\":'Contagem'}, axis=1)\n",
    "\n",
    "cm = sns.light_palette(\"green\", as_cmap=True)\n",
    "\n",
    "dfRatPrincipaisDiretores.style.background_gradient(cmap = cm)"
   ]
  },
  {
   "cell_type": "markdown",
   "metadata": {},
   "source": [
    "### Qual mês do ano possui a maior quantidade de conteúdo adicionado"
   ]
  },
  {
   "cell_type": "code",
   "execution_count": 23,
   "metadata": {},
   "outputs": [
    {
     "name": "stderr",
     "output_type": "stream",
     "text": [
      "c:\\Users\\RodrigoS\\Anaconda3\\lib\\site-packages\\ipykernel\\ipkernel.py:287: DeprecationWarning: `should_run_async` will not call `transform_cell` automatically in the future. Please pass the result to `transformed_cell` argument and any exception that happen during thetransform in `preprocessing_exc_tuple` in IPython 7.17 and above.\n",
      "  and should_run_async(code)\n"
     ]
    },
    {
     "data": {
      "image/png": "[encoded data removed]",
      "text/plain": [
       "<Figure size 864x576 with 1 Axes>"
      ]
     },
     "metadata": {},
     "output_type": "display_data"
    }
   ],
   "source": [
    "dfCopy['dateMonth'] = pd.to_datetime(dfCopy['date_added']).dt.to_period(\"M\")\n",
    "plt.figure(figsize=(12,8), facecolor = 'white')\n",
    "ax = plt.axes()\n",
    "ser = dfCopy.groupby('dateMonth')['dateMonth'].count()\n",
    "ser.plot()\n",
    "plt.title(\"Adição de novos títulos mês a mês\")\n",
    "plt.ylabel(\"Títulos\")\n",
    "plt.xlabel(\"Perído\")\n",
    "plt.show();\n"
   ]
  },
  {
   "cell_type": "markdown",
   "metadata": {},
   "source": [
    "### Agregar os conteúdos por ano de publicação"
   ]
  },
  {
   "cell_type": "code",
   "execution_count": 24,
   "metadata": {},
   "outputs": [
    {
     "name": "stderr",
     "output_type": "stream",
     "text": [
      "c:\\Users\\RodrigoS\\Anaconda3\\lib\\site-packages\\ipykernel\\ipkernel.py:287: DeprecationWarning: `should_run_async` will not call `transform_cell` automatically in the future. Please pass the result to `transformed_cell` argument and any exception that happen during thetransform in `preprocessing_exc_tuple` in IPython 7.17 and above.\n",
      "  and should_run_async(code)\n"
     ]
    }
   ],
   "source": [
    "def SeparaFaixas(registro, lancamento = [1920,1940,1960,1980,2000,2010,2015,2019,2022], faixas = [\"1920..1940\",\"1940..1960\",\"1960..1980\",\"1980..2000\",\"2000..2010\",\"2010..2015\",\"2015..2019\",\"2019..2021\"]):\n",
    "\n",
    "    if registro < lancamento[0]:\n",
    "        return '<1920'\n",
    "    elif registro >= lancamento[len(lancamento)-1]:\n",
    "        return \"...\"\n",
    "    else:\n",
    "        for i in range(len(lancamento)-1):\n",
    "            if registro >= lancamento[i] and registro < lancamento[i+1]:\n",
    "                return faixas[i]\n",
    "dfCopy['Faixa'] = dfCopy['release_year'].map(SeparaFaixas)\n",
    "dfByPeriod =  pd.DataFrame(dfCopy.groupby(\"Faixa\")['release_year'].value_counts()).rename({\"release_year\":\"contagem\"}, axis=1).reset_index()"
   ]
  },
  {
   "cell_type": "code",
   "execution_count": 25,
   "metadata": {},
   "outputs": [
    {
     "name": "stderr",
     "output_type": "stream",
     "text": [
      "c:\\Users\\RodrigoS\\Anaconda3\\lib\\site-packages\\ipykernel\\ipkernel.py:287: DeprecationWarning: `should_run_async` will not call `transform_cell` automatically in the future. Please pass the result to `transformed_cell` argument and any exception that happen during thetransform in `preprocessing_exc_tuple` in IPython 7.17 and above.\n",
      "  and should_run_async(code)\n"
     ]
    },
    {
     "data": {
      "text/html": [
       "<div>\n",
       "<style scoped>\n",
       "    .dataframe tbody tr th:only-of-type {\n",
       "        vertical-align: middle;\n",
       "    }\n",
       "\n",
       "    .dataframe tbody tr th {\n",
       "        vertical-align: top;\n",
       "    }\n",
       "\n",
       "    .dataframe thead th {\n",
       "        text-align: right;\n",
       "    }\n",
       "</style>\n",
       "<table border=\"1\" class=\"dataframe\">\n",
       "  <thead>\n",
       "    <tr style=\"text-align: right;\">\n",
       "      <th></th>\n",
       "      <th>Faixa</th>\n",
       "      <th>type</th>\n",
       "      <th>contagem</th>\n",
       "    </tr>\n",
       "  </thead>\n",
       "  <tbody>\n",
       "    <tr>\n",
       "      <th>0</th>\n",
       "      <td>1920..1940</td>\n",
       "      <td>Movie</td>\n",
       "      <td>157</td>\n",
       "    </tr>\n",
       "    <tr>\n",
       "      <th>1</th>\n",
       "      <td>1920..1940</td>\n",
       "      <td>TV Show</td>\n",
       "      <td>2</td>\n",
       "    </tr>\n",
       "    <tr>\n",
       "      <th>2</th>\n",
       "      <td>1940..1960</td>\n",
       "      <td>Movie</td>\n",
       "      <td>320</td>\n",
       "    </tr>\n",
       "    <tr>\n",
       "      <th>3</th>\n",
       "      <td>1940..1960</td>\n",
       "      <td>TV Show</td>\n",
       "      <td>8</td>\n",
       "    </tr>\n",
       "    <tr>\n",
       "      <th>4</th>\n",
       "      <td>1960..1980</td>\n",
       "      <td>Movie</td>\n",
       "      <td>312</td>\n",
       "    </tr>\n",
       "    <tr>\n",
       "      <th>5</th>\n",
       "      <td>1960..1980</td>\n",
       "      <td>TV Show</td>\n",
       "      <td>21</td>\n",
       "    </tr>\n",
       "    <tr>\n",
       "      <th>6</th>\n",
       "      <td>1980..2000</td>\n",
       "      <td>Movie</td>\n",
       "      <td>803</td>\n",
       "    </tr>\n",
       "    <tr>\n",
       "      <th>7</th>\n",
       "      <td>1980..2000</td>\n",
       "      <td>TV Show</td>\n",
       "      <td>73</td>\n",
       "    </tr>\n",
       "    <tr>\n",
       "      <th>8</th>\n",
       "      <td>2000..2010</td>\n",
       "      <td>Movie</td>\n",
       "      <td>1008</td>\n",
       "    </tr>\n",
       "    <tr>\n",
       "      <th>9</th>\n",
       "      <td>2000..2010</td>\n",
       "      <td>TV Show</td>\n",
       "      <td>177</td>\n",
       "    </tr>\n",
       "    <tr>\n",
       "      <th>10</th>\n",
       "      <td>2010..2015</td>\n",
       "      <td>Movie</td>\n",
       "      <td>1083</td>\n",
       "    </tr>\n",
       "    <tr>\n",
       "      <th>11</th>\n",
       "      <td>2010..2015</td>\n",
       "      <td>TV Show</td>\n",
       "      <td>287</td>\n",
       "    </tr>\n",
       "    <tr>\n",
       "      <th>12</th>\n",
       "      <td>2015..2019</td>\n",
       "      <td>Movie</td>\n",
       "      <td>1526</td>\n",
       "    </tr>\n",
       "    <tr>\n",
       "      <th>13</th>\n",
       "      <td>2015..2019</td>\n",
       "      <td>TV Show</td>\n",
       "      <td>558</td>\n",
       "    </tr>\n",
       "    <tr>\n",
       "      <th>14</th>\n",
       "      <td>2019..2021</td>\n",
       "      <td>Movie</td>\n",
       "      <td>2605</td>\n",
       "    </tr>\n",
       "    <tr>\n",
       "      <th>15</th>\n",
       "      <td>2019..2021</td>\n",
       "      <td>TV Show</td>\n",
       "      <td>728</td>\n",
       "    </tr>\n",
       "  </tbody>\n",
       "</table>\n",
       "</div>"
      ],
      "text/plain": [
       "         Faixa     type  contagem\n",
       "0   1920..1940    Movie       157\n",
       "1   1920..1940  TV Show         2\n",
       "2   1940..1960    Movie       320\n",
       "3   1940..1960  TV Show         8\n",
       "4   1960..1980    Movie       312\n",
       "5   1960..1980  TV Show        21\n",
       "6   1980..2000    Movie       803\n",
       "7   1980..2000  TV Show        73\n",
       "8   2000..2010    Movie      1008\n",
       "9   2000..2010  TV Show       177\n",
       "10  2010..2015    Movie      1083\n",
       "11  2010..2015  TV Show       287\n",
       "12  2015..2019    Movie      1526\n",
       "13  2015..2019  TV Show       558\n",
       "14  2019..2021    Movie      2605\n",
       "15  2019..2021  TV Show       728"
      ]
     },
     "execution_count": 25,
     "metadata": {},
     "output_type": "execute_result"
    }
   ],
   "source": [
    "dfByPeriod = pd.DataFrame(dfCopy.groupby([\"Faixa\",\"type\"])['type'].count()).rename({'type':'contagem'}, axis  =1).reset_index()\n",
    "dfByPeriod"
   ]
  },
  {
   "cell_type": "code",
   "execution_count": 26,
   "metadata": {},
   "outputs": [
    {
     "name": "stderr",
     "output_type": "stream",
     "text": [
      "c:\\Users\\RodrigoS\\Anaconda3\\lib\\site-packages\\ipykernel\\ipkernel.py:287: DeprecationWarning: `should_run_async` will not call `transform_cell` automatically in the future. Please pass the result to `transformed_cell` argument and any exception that happen during thetransform in `preprocessing_exc_tuple` in IPython 7.17 and above.\n",
      "  and should_run_async(code)\n"
     ]
    },
    {
     "data": {
      "image/png": "[encoded data removed]",
      "text/plain": [
       "<Figure size 1152x648 with 1 Axes>"
      ]
     },
     "metadata": {
      "needs_background": "light"
     },
     "output_type": "display_data"
    }
   ],
   "source": [
    "plt.figure(figsize=(16,9))\n",
    "sns.barplot(x = \"Faixa\", y = \"contagem\", hue = 'type', data = dfByPeriod)\n",
    "plt.xticks(rotation = 60)\n",
    "plt.title(\"Quantidade de títulos por período de lançamento\")\n",
    "plt.show();"
   ]
  },
  {
   "cell_type": "code",
   "execution_count": 28,
   "metadata": {},
   "outputs": [
    {
     "name": "stderr",
     "output_type": "stream",
     "text": [
      "c:\\Users\\RodrigoS\\Anaconda3\\lib\\site-packages\\ipykernel\\ipkernel.py:287: DeprecationWarning: `should_run_async` will not call `transform_cell` automatically in the future. Please pass the result to `transformed_cell` argument and any exception that happen during thetransform in `preprocessing_exc_tuple` in IPython 7.17 and above.\n",
      "  and should_run_async(code)\n"
     ]
    },
    {
     "data": {
      "image/png": "[encoded data removed]",
      "text/plain": [
       "<Figure size 1728x864 with 1 Axes>"
      ]
     },
     "metadata": {
      "needs_background": "light"
     },
     "output_type": "display_data"
    }
   ],
   "source": [
    "df = pd.DataFrame(dfCopy['release_year'].value_counts()).sort_index()\n",
    "plt.figure(figsize=(24,12))\n",
    "sns.barplot(x = df.index, y = df['release_year'])\n",
    "plt.xticks(rotation =60)\n",
    "plt.title(\"Total por ano de lançamento\")\n",
    "plt.show();"
   ]
  },
  {
   "cell_type": "code",
   "execution_count": null,
   "metadata": {},
   "outputs": [],
   "source": []
  }
 ],
 "metadata": {
  "kernelspec": {
   "display_name": "Python 3.8.8 ('base')",
   "language": "python",
   "name": "python3"
  },
  "language_info": {
   "codemirror_mode": {
    "name": "ipython",
    "version": 3
   },
   "file_extension": ".py",
   "mimetype": "text/x-python",
   "name": "python",
   "nbconvert_exporter": "python",
   "pygments_lexer": "ipython3",
   "version": "3.8.8"
  },
  "orig_nbformat": 4,
  "vscode": {
   "interpreter": {
    "hash": "5a4c4550d516fb09513d1d554397769fe1d4a0d90193844971ed4da4eedcbcb0"
   }
  }
 },
 "nbformat": 4,
 "nbformat_minor": 2
}
