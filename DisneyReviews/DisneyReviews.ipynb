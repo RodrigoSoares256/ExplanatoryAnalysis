{
 "cells": [
  {
   "cell_type": "code",
   "execution_count": 1,
   "metadata": {},
   "outputs": [],
   "source": [
    "import numpy as np\n",
    "import pandas as pd\n",
    "import matplotlib.pyplot as plt\n",
    "import seaborn as sns\n",
    "import chardet\n",
    "import plotly.express as px\n",
    "%matplotlib inline"
   ]
  },
  {
   "cell_type": "markdown",
   "metadata": {},
   "source": [
    "# Opening the file\n",
    "**This file does not open directly as we use the function .read_csv from pandas, so i'm gonna use chardet to try to detect which kind of encoding we have**"
   ]
  },
  {
   "cell_type": "code",
   "execution_count": 2,
   "metadata": {},
   "outputs": [
    {
     "data": {
      "text/plain": [
       "{'encoding': 'ISO-8859-1', 'confidence': 0.73, 'language': ''}"
      ]
     },
     "execution_count": 2,
     "metadata": {},
     "output_type": "execute_result"
    }
   ],
   "source": [
    "with open('archive/DisneylandReviews.csv','rb') as raw:\n",
    "    res = chardet.detect(raw.read(1000000))\n",
    "res"
   ]
  },
  {
   "cell_type": "markdown",
   "metadata": {},
   "source": [
    "After detecting that the file is on 'ISO-8859-1' we can use it as encoding"
   ]
  },
  {
   "cell_type": "code",
   "execution_count": 3,
   "metadata": {},
   "outputs": [
    {
     "data": {
      "text/html": [
       "<div>\n",
       "<style scoped>\n",
       "    .dataframe tbody tr th:only-of-type {\n",
       "        vertical-align: middle;\n",
       "    }\n",
       "\n",
       "    .dataframe tbody tr th {\n",
       "        vertical-align: top;\n",
       "    }\n",
       "\n",
       "    .dataframe thead th {\n",
       "        text-align: right;\n",
       "    }\n",
       "</style>\n",
       "<table border=\"1\" class=\"dataframe\">\n",
       "  <thead>\n",
       "    <tr style=\"text-align: right;\">\n",
       "      <th></th>\n",
       "      <th>Review_ID</th>\n",
       "      <th>Rating</th>\n",
       "      <th>Year_Month</th>\n",
       "      <th>Reviewer_Location</th>\n",
       "      <th>Review_Text</th>\n",
       "      <th>Branch</th>\n",
       "    </tr>\n",
       "  </thead>\n",
       "  <tbody>\n",
       "    <tr>\n",
       "      <th>0</th>\n",
       "      <td>670772142</td>\n",
       "      <td>4</td>\n",
       "      <td>2019-4</td>\n",
       "      <td>Australia</td>\n",
       "      <td>If you've ever been to Disneyland anywhere you...</td>\n",
       "      <td>Disneyland_HongKong</td>\n",
       "    </tr>\n",
       "    <tr>\n",
       "      <th>1</th>\n",
       "      <td>670682799</td>\n",
       "      <td>4</td>\n",
       "      <td>2019-5</td>\n",
       "      <td>Philippines</td>\n",
       "      <td>Its been a while since d last time we visit HK...</td>\n",
       "      <td>Disneyland_HongKong</td>\n",
       "    </tr>\n",
       "    <tr>\n",
       "      <th>2</th>\n",
       "      <td>670623270</td>\n",
       "      <td>4</td>\n",
       "      <td>2019-4</td>\n",
       "      <td>United Arab Emirates</td>\n",
       "      <td>Thanks God it wasn   t too hot or too humid wh...</td>\n",
       "      <td>Disneyland_HongKong</td>\n",
       "    </tr>\n",
       "    <tr>\n",
       "      <th>3</th>\n",
       "      <td>670607911</td>\n",
       "      <td>4</td>\n",
       "      <td>2019-4</td>\n",
       "      <td>Australia</td>\n",
       "      <td>HK Disneyland is a great compact park. Unfortu...</td>\n",
       "      <td>Disneyland_HongKong</td>\n",
       "    </tr>\n",
       "    <tr>\n",
       "      <th>4</th>\n",
       "      <td>670607296</td>\n",
       "      <td>4</td>\n",
       "      <td>2019-4</td>\n",
       "      <td>United Kingdom</td>\n",
       "      <td>the location is not in the city, took around 1...</td>\n",
       "      <td>Disneyland_HongKong</td>\n",
       "    </tr>\n",
       "  </tbody>\n",
       "</table>\n",
       "</div>"
      ],
      "text/plain": [
       "   Review_ID  Rating Year_Month     Reviewer_Location  \\\n",
       "0  670772142       4     2019-4             Australia   \n",
       "1  670682799       4     2019-5           Philippines   \n",
       "2  670623270       4     2019-4  United Arab Emirates   \n",
       "3  670607911       4     2019-4             Australia   \n",
       "4  670607296       4     2019-4        United Kingdom   \n",
       "\n",
       "                                         Review_Text               Branch  \n",
       "0  If you've ever been to Disneyland anywhere you...  Disneyland_HongKong  \n",
       "1  Its been a while since d last time we visit HK...  Disneyland_HongKong  \n",
       "2  Thanks God it wasn   t too hot or too humid wh...  Disneyland_HongKong  \n",
       "3  HK Disneyland is a great compact park. Unfortu...  Disneyland_HongKong  \n",
       "4  the location is not in the city, took around 1...  Disneyland_HongKong  "
      ]
     },
     "execution_count": 3,
     "metadata": {},
     "output_type": "execute_result"
    }
   ],
   "source": [
    "dfRaw = pd.read_csv('archive/DisneylandReviews.csv', encoding='ISO-8859-1')\n",
    "dfRaw.head()"
   ]
  },
  {
   "cell_type": "code",
   "execution_count": 4,
   "metadata": {},
   "outputs": [
    {
     "data": {
      "text/plain": [
       "Review_ID             int64\n",
       "Rating                int64\n",
       "Year_Month           object\n",
       "Reviewer_Location    object\n",
       "Review_Text          object\n",
       "Branch               object\n",
       "dtype: object"
      ]
     },
     "execution_count": 4,
     "metadata": {},
     "output_type": "execute_result"
    }
   ],
   "source": [
    "dfRaw.dtypes"
   ]
  },
  {
   "cell_type": "code",
   "execution_count": 5,
   "metadata": {},
   "outputs": [
    {
     "data": {
      "text/plain": [
       "Review_ID            0\n",
       "Rating               0\n",
       "Year_Month           0\n",
       "Reviewer_Location    0\n",
       "Review_Text          0\n",
       "Branch               0\n",
       "dtype: int64"
      ]
     },
     "execution_count": 5,
     "metadata": {},
     "output_type": "execute_result"
    }
   ],
   "source": [
    "dfRaw.isna().sum()"
   ]
  },
  {
   "cell_type": "code",
   "execution_count": 6,
   "metadata": {},
   "outputs": [
    {
     "data": {
      "text/plain": [
       "missing    2613\n",
       "2015-8      786\n",
       "2015-7      759\n",
       "2015-12     701\n",
       "2015-6      692\n",
       "           ... \n",
       "2010-8        7\n",
       "2010-5        4\n",
       "2019-5        2\n",
       "2010-3        2\n",
       "2010-4        1\n",
       "Name: Year_Month, Length: 112, dtype: int64"
      ]
     },
     "execution_count": 6,
     "metadata": {},
     "output_type": "execute_result"
    }
   ],
   "source": [
    "dfRaw['Year_Month'].value_counts()"
   ]
  },
  {
   "cell_type": "code",
   "execution_count": 7,
   "metadata": {},
   "outputs": [
    {
     "data": {
      "text/html": [
       "<div>\n",
       "<style scoped>\n",
       "    .dataframe tbody tr th:only-of-type {\n",
       "        vertical-align: middle;\n",
       "    }\n",
       "\n",
       "    .dataframe tbody tr th {\n",
       "        vertical-align: top;\n",
       "    }\n",
       "\n",
       "    .dataframe thead th {\n",
       "        text-align: right;\n",
       "    }\n",
       "</style>\n",
       "<table border=\"1\" class=\"dataframe\">\n",
       "  <thead>\n",
       "    <tr style=\"text-align: right;\">\n",
       "      <th></th>\n",
       "      <th>Review_ID</th>\n",
       "      <th>Rating</th>\n",
       "      <th>Year_Month</th>\n",
       "      <th>Reviewer_Location</th>\n",
       "      <th>Review_Text</th>\n",
       "      <th>Branch</th>\n",
       "    </tr>\n",
       "  </thead>\n",
       "  <tbody>\n",
       "    <tr>\n",
       "      <th>0</th>\n",
       "      <td>670772142</td>\n",
       "      <td>4</td>\n",
       "      <td>2019-4</td>\n",
       "      <td>Australia</td>\n",
       "      <td>If you've ever been to Disneyland anywhere you...</td>\n",
       "      <td>Disneyland_HongKong</td>\n",
       "    </tr>\n",
       "    <tr>\n",
       "      <th>1</th>\n",
       "      <td>670682799</td>\n",
       "      <td>4</td>\n",
       "      <td>2019-5</td>\n",
       "      <td>Philippines</td>\n",
       "      <td>Its been a while since d last time we visit HK...</td>\n",
       "      <td>Disneyland_HongKong</td>\n",
       "    </tr>\n",
       "    <tr>\n",
       "      <th>2</th>\n",
       "      <td>670623270</td>\n",
       "      <td>4</td>\n",
       "      <td>2019-4</td>\n",
       "      <td>United Arab Emirates</td>\n",
       "      <td>Thanks God it wasn   t too hot or too humid wh...</td>\n",
       "      <td>Disneyland_HongKong</td>\n",
       "    </tr>\n",
       "    <tr>\n",
       "      <th>3</th>\n",
       "      <td>670607911</td>\n",
       "      <td>4</td>\n",
       "      <td>2019-4</td>\n",
       "      <td>Australia</td>\n",
       "      <td>HK Disneyland is a great compact park. Unfortu...</td>\n",
       "      <td>Disneyland_HongKong</td>\n",
       "    </tr>\n",
       "    <tr>\n",
       "      <th>4</th>\n",
       "      <td>670607296</td>\n",
       "      <td>4</td>\n",
       "      <td>2019-4</td>\n",
       "      <td>United Kingdom</td>\n",
       "      <td>the location is not in the city, took around 1...</td>\n",
       "      <td>Disneyland_HongKong</td>\n",
       "    </tr>\n",
       "    <tr>\n",
       "      <th>5</th>\n",
       "      <td>670591897</td>\n",
       "      <td>3</td>\n",
       "      <td>2019-4</td>\n",
       "      <td>Singapore</td>\n",
       "      <td>Have been to Disney World, Disneyland Anaheim ...</td>\n",
       "      <td>Disneyland_HongKong</td>\n",
       "    </tr>\n",
       "    <tr>\n",
       "      <th>6</th>\n",
       "      <td>670585330</td>\n",
       "      <td>5</td>\n",
       "      <td>2019-4</td>\n",
       "      <td>India</td>\n",
       "      <td>Great place! Your day will go by and you won't...</td>\n",
       "      <td>Disneyland_HongKong</td>\n",
       "    </tr>\n",
       "    <tr>\n",
       "      <th>7</th>\n",
       "      <td>670574142</td>\n",
       "      <td>3</td>\n",
       "      <td>2019-3</td>\n",
       "      <td>Malaysia</td>\n",
       "      <td>Think of it as an intro to Disney magic for th...</td>\n",
       "      <td>Disneyland_HongKong</td>\n",
       "    </tr>\n",
       "    <tr>\n",
       "      <th>8</th>\n",
       "      <td>670571027</td>\n",
       "      <td>2</td>\n",
       "      <td>2019-4</td>\n",
       "      <td>Australia</td>\n",
       "      <td>Feel so let down with this place,the Disneylan...</td>\n",
       "      <td>Disneyland_HongKong</td>\n",
       "    </tr>\n",
       "    <tr>\n",
       "      <th>9</th>\n",
       "      <td>670570869</td>\n",
       "      <td>5</td>\n",
       "      <td>2019-3</td>\n",
       "      <td>India</td>\n",
       "      <td>I can go on talking about Disneyland. Whatever...</td>\n",
       "      <td>Disneyland_HongKong</td>\n",
       "    </tr>\n",
       "  </tbody>\n",
       "</table>\n",
       "</div>"
      ],
      "text/plain": [
       "   Review_ID  Rating Year_Month     Reviewer_Location  \\\n",
       "0  670772142       4     2019-4             Australia   \n",
       "1  670682799       4     2019-5           Philippines   \n",
       "2  670623270       4     2019-4  United Arab Emirates   \n",
       "3  670607911       4     2019-4             Australia   \n",
       "4  670607296       4     2019-4        United Kingdom   \n",
       "5  670591897       3     2019-4             Singapore   \n",
       "6  670585330       5     2019-4                 India   \n",
       "7  670574142       3     2019-3              Malaysia   \n",
       "8  670571027       2     2019-4             Australia   \n",
       "9  670570869       5     2019-3                 India   \n",
       "\n",
       "                                         Review_Text               Branch  \n",
       "0  If you've ever been to Disneyland anywhere you...  Disneyland_HongKong  \n",
       "1  Its been a while since d last time we visit HK...  Disneyland_HongKong  \n",
       "2  Thanks God it wasn   t too hot or too humid wh...  Disneyland_HongKong  \n",
       "3  HK Disneyland is a great compact park. Unfortu...  Disneyland_HongKong  \n",
       "4  the location is not in the city, took around 1...  Disneyland_HongKong  \n",
       "5  Have been to Disney World, Disneyland Anaheim ...  Disneyland_HongKong  \n",
       "6  Great place! Your day will go by and you won't...  Disneyland_HongKong  \n",
       "7  Think of it as an intro to Disney magic for th...  Disneyland_HongKong  \n",
       "8  Feel so let down with this place,the Disneylan...  Disneyland_HongKong  \n",
       "9  I can go on talking about Disneyland. Whatever...  Disneyland_HongKong  "
      ]
     },
     "execution_count": 7,
     "metadata": {},
     "output_type": "execute_result"
    }
   ],
   "source": [
    "dfRaw.head(10)"
   ]
  },
  {
   "cell_type": "code",
   "execution_count": 8,
   "metadata": {},
   "outputs": [],
   "source": [
    "dfWork = dfRaw.copy()"
   ]
  },
  {
   "cell_type": "markdown",
   "metadata": {},
   "source": [
    "As we can see there is a lot of missing data on the 'Year_Month' column and there is few options to try to impu these missing data.\n",
    "We could try:\n",
    "1. Backfilling => this sounds like a resonable option as most of the data in this column is sequential, although there are exceptions it seems a good option\n",
    "The information will not be 100% accurate with this method but it`s anyway better than dropping the NA values"
   ]
  },
  {
   "cell_type": "code",
   "execution_count": 9,
   "metadata": {},
   "outputs": [
    {
     "data": {
      "text/plain": [
       "missing    2613\n",
       "2015-8      786\n",
       "2015-7      759\n",
       "2015-12     701\n",
       "2015-6      692\n",
       "           ... \n",
       "2010-8        7\n",
       "2010-5        4\n",
       "2019-5        2\n",
       "2010-3        2\n",
       "2010-4        1\n",
       "Name: Year_Month, Length: 112, dtype: int64"
      ]
     },
     "execution_count": 9,
     "metadata": {},
     "output_type": "execute_result"
    }
   ],
   "source": [
    "dfWork['Year_Month'].value_counts()"
   ]
  },
  {
   "cell_type": "code",
   "execution_count": 10,
   "metadata": {},
   "outputs": [
    {
     "data": {
      "text/plain": [
       "2015-08-01    786\n",
       "2010-12-01    770\n",
       "2015-07-01    760\n",
       "2015-05-01    704\n",
       "2015-12-01    701\n",
       "             ... \n",
       "2010-08-01      7\n",
       "2010-05-01      4\n",
       "2019-05-01      2\n",
       "2010-03-01      2\n",
       "2010-04-01      1\n",
       "Name: Year_Month, Length: 111, dtype: int64"
      ]
     },
     "execution_count": 10,
     "metadata": {},
     "output_type": "execute_result"
    }
   ],
   "source": [
    "dfWork['Year_Month'].replace({'missing':np.nan}, inplace=True)\n",
    "dfWork['Year_Month'] = pd.to_datetime(dfWork['Year_Month'].fillna(method='ffill'))\n",
    "dfWork['Year_Month'].value_counts()"
   ]
  },
  {
   "cell_type": "code",
   "execution_count": 11,
   "metadata": {},
   "outputs": [
    {
     "name": "stdout",
     "output_type": "stream",
     "text": [
      "162\n"
     ]
    },
    {
     "data": {
      "text/plain": [
       "United States     14551\n",
       "United Kingdom     9751\n",
       "Australia          4679\n",
       "Canada             2235\n",
       "India              1511\n",
       "                  ...  \n",
       "Namibia               1\n",
       "Armenia               1\n",
       "Timor-Leste           1\n",
       "South Sudan           1\n",
       "Åland Islands         1\n",
       "Name: Reviewer_Location, Length: 162, dtype: int64"
      ]
     },
     "execution_count": 11,
     "metadata": {},
     "output_type": "execute_result"
    }
   ],
   "source": [
    "print(dfWork['Reviewer_Location'].nunique())\n",
    "dfWork['Reviewer_Location'].value_counts()\n"
   ]
  },
  {
   "cell_type": "code",
   "execution_count": 12,
   "metadata": {},
   "outputs": [
    {
     "data": {
      "text/plain": [
       "Disneyland_California    19406\n",
       "Disneyland_Paris         13630\n",
       "Disneyland_HongKong       9620\n",
       "Name: Branch, dtype: int64"
      ]
     },
     "execution_count": 12,
     "metadata": {},
     "output_type": "execute_result"
    }
   ],
   "source": [
    "dfWork['Branch'].value_counts()"
   ]
  },
  {
   "cell_type": "code",
   "execution_count": 13,
   "metadata": {},
   "outputs": [
    {
     "data": {
      "text/plain": [
       "(   Review_ID  Rating Year_Month     Reviewer_Location  \\\n",
       " 0  670772142       4 2019-04-01             Australia   \n",
       " 1  670682799       4 2019-05-01           Philippines   \n",
       " 2  670623270       4 2019-04-01  United Arab Emirates   \n",
       " 3  670607911       4 2019-04-01             Australia   \n",
       " 4  670607296       4 2019-04-01        United Kingdom   \n",
       " \n",
       "                                          Review_Text               Branch  \n",
       " 0  If you've ever been to Disneyland anywhere you...  Disneyland_HongKong  \n",
       " 1  Its been a while since d last time we visit HK...  Disneyland_HongKong  \n",
       " 2  Thanks God it wasn   t too hot or too humid wh...  Disneyland_HongKong  \n",
       " 3  HK Disneyland is a great compact park. Unfortu...  Disneyland_HongKong  \n",
       " 4  the location is not in the city, took around 1...  Disneyland_HongKong  ,\n",
       "        Review_ID  Rating Year_Month Reviewer_Location  \\\n",
       " 42651    1765031       5 2010-09-01    United Kingdom   \n",
       " 42652    1659553       5 2010-09-01            Canada   \n",
       " 42653    1645894       5 2010-09-01      South Africa   \n",
       " 42654    1618637       4 2010-09-01     United States   \n",
       " 42655    1536786       4 2010-09-01    United Kingdom   \n",
       " \n",
       "                                              Review_Text            Branch  \n",
       " 42651  i went to disneyland paris in july 03 and thou...  Disneyland_Paris  \n",
       " 42652  2 adults and 1 child of 11 visited Disneyland ...  Disneyland_Paris  \n",
       " 42653  My eleven year old daughter and myself went to...  Disneyland_Paris  \n",
       " 42654  This hotel, part of the Disneyland Paris compl...  Disneyland_Paris  \n",
       " 42655  I went to the Disneyparis resort, in 1996, wit...  Disneyland_Paris  )"
      ]
     },
     "execution_count": 13,
     "metadata": {},
     "output_type": "execute_result"
    }
   ],
   "source": [
    "dfWork.head(), dfWork.tail()"
   ]
  },
  {
   "cell_type": "markdown",
   "metadata": {},
   "source": [
    "# Now we can stablish some questions to be answered by our explanatory analysis \n",
    "**1. How does the customer Rating has evolved over the years?** <br>\n",
    "**2. What is the average Rating by Reviewer_Location** <br>\n",
    "**3. Average Rating by Branch**<br>\n",
    "**4. Group Ratings by branch and year** <br>"
   ]
  },
  {
   "cell_type": "code",
   "execution_count": 14,
   "metadata": {},
   "outputs": [
    {
     "data": {
      "image/png": "[encoded data removed]",
      "text/plain": [
       "<Figure size 864x576 with 1 Axes>"
      ]
     },
     "metadata": {
      "needs_background": "light"
     },
     "output_type": "display_data"
    }
   ],
   "source": [
    "plt.figure(figsize=(12,8))\n",
    "sns.lineplot(x = 'Year_Month', y = 'Rating', data=dfWork)\n",
    "plt.title('Evolution of rating over the years')\n",
    "plt.ylabel('Rating')\n",
    "plt.xlabel('Time')\n",
    "plt.show();"
   ]
  },
  {
   "cell_type": "markdown",
   "metadata": {},
   "source": [
    "From the graphic above we can easily see that the rating usually stays between 4.. 5 with a small drop around the first quarter of 2010"
   ]
  },
  {
   "cell_type": "markdown",
   "metadata": {},
   "source": [
    "# What is the average Rating by Reviewer_Location\n",
    "There is actually more than 160 Reviewer locations in the list so i`ll focus on those locations with more than 200 evaluations as they represent most of the data <br>\n",
    "However we can always do the analysis differently "
   ]
  },
  {
   "cell_type": "code",
   "execution_count": 15,
   "metadata": {},
   "outputs": [
    {
     "data": {
      "text/plain": [
       "array(['United States', 'United Kingdom', 'Australia', 'Canada', 'India',\n",
       "       'Philippines', 'Singapore', 'New Zealand', 'Malaysia', 'Hong Kong',\n",
       "       'Indonesia', 'Ireland', 'United Arab Emirates', 'Netherlands',\n",
       "       'France', 'South Africa', 'Thailand'], dtype=object)"
      ]
     },
     "execution_count": 15,
     "metadata": {},
     "output_type": "execute_result"
    }
   ],
   "source": [
    "dfRevLocCount = pd.DataFrame(dfWork['Reviewer_Location'].value_counts())\n",
    "placesMore200Reviews =  dfRevLocCount[dfRevLocCount['Reviewer_Location']> 200].index.values\n",
    "placesMore200Reviews"
   ]
  },
  {
   "cell_type": "code",
   "execution_count": 16,
   "metadata": {},
   "outputs": [
    {
     "data": {
      "text/html": [
       "<div>\n",
       "<style scoped>\n",
       "    .dataframe tbody tr th:only-of-type {\n",
       "        vertical-align: middle;\n",
       "    }\n",
       "\n",
       "    .dataframe tbody tr th {\n",
       "        vertical-align: top;\n",
       "    }\n",
       "\n",
       "    .dataframe thead th {\n",
       "        text-align: right;\n",
       "    }\n",
       "</style>\n",
       "<table border=\"1\" class=\"dataframe\">\n",
       "  <thead>\n",
       "    <tr style=\"text-align: right;\">\n",
       "      <th></th>\n",
       "      <th>Reviewer_Location</th>\n",
       "    </tr>\n",
       "  </thead>\n",
       "  <tbody>\n",
       "    <tr>\n",
       "      <th>United States</th>\n",
       "      <td>14551</td>\n",
       "    </tr>\n",
       "    <tr>\n",
       "      <th>United Kingdom</th>\n",
       "      <td>9751</td>\n",
       "    </tr>\n",
       "    <tr>\n",
       "      <th>Australia</th>\n",
       "      <td>4679</td>\n",
       "    </tr>\n",
       "    <tr>\n",
       "      <th>Canada</th>\n",
       "      <td>2235</td>\n",
       "    </tr>\n",
       "    <tr>\n",
       "      <th>India</th>\n",
       "      <td>1511</td>\n",
       "    </tr>\n",
       "    <tr>\n",
       "      <th>...</th>\n",
       "      <td>...</td>\n",
       "    </tr>\n",
       "    <tr>\n",
       "      <th>Namibia</th>\n",
       "      <td>1</td>\n",
       "    </tr>\n",
       "    <tr>\n",
       "      <th>Armenia</th>\n",
       "      <td>1</td>\n",
       "    </tr>\n",
       "    <tr>\n",
       "      <th>Timor-Leste</th>\n",
       "      <td>1</td>\n",
       "    </tr>\n",
       "    <tr>\n",
       "      <th>South Sudan</th>\n",
       "      <td>1</td>\n",
       "    </tr>\n",
       "    <tr>\n",
       "      <th>Åland Islands</th>\n",
       "      <td>1</td>\n",
       "    </tr>\n",
       "  </tbody>\n",
       "</table>\n",
       "<p>162 rows × 1 columns</p>\n",
       "</div>"
      ],
      "text/plain": [
       "                Reviewer_Location\n",
       "United States               14551\n",
       "United Kingdom               9751\n",
       "Australia                    4679\n",
       "Canada                       2235\n",
       "India                        1511\n",
       "...                           ...\n",
       "Namibia                         1\n",
       "Armenia                         1\n",
       "Timor-Leste                     1\n",
       "South Sudan                     1\n",
       "Åland Islands                   1\n",
       "\n",
       "[162 rows x 1 columns]"
      ]
     },
     "execution_count": 16,
     "metadata": {},
     "output_type": "execute_result"
    }
   ],
   "source": [
    "dfRevLocCount"
   ]
  },
  {
   "cell_type": "code",
   "execution_count": 17,
   "metadata": {},
   "outputs": [
    {
     "data": {
      "image/png": "[encoded data removed]",
      "text/plain": [
       "<Figure size 1368x648 with 1 Axes>"
      ]
     },
     "metadata": {
      "needs_background": "light"
     },
     "output_type": "display_data"
    }
   ],
   "source": [
    "dfLimitedPlaces = dfWork[dfWork['Reviewer_Location'].isin(placesMore200Reviews)]\n",
    "plt.figure(figsize = (19,9))\n",
    "plt.title('Customer evaluation grouped by country and Branch')\n",
    "sns.barplot(x = 'Reviewer_Location', y = 'Rating', data = dfLimitedPlaces, hue = 'Branch')\n",
    "plt.xlabel('Reviewer origin location')\n",
    "plt.xticks(rotation = 45)\n",
    "plt.show()"
   ]
  },
  {
   "cell_type": "markdown",
   "metadata": {},
   "source": [
    "Given the graphic above as well as the following table it seems like the branch from Paris seems to have lower ratings apart from the Irish public <br>\n",
    "which in average rates Disney Paris with a higher grade <br>\n",
    "This graphic should not to blindly analyzed as it doesn`t analyze the size of the sample used to calculate these measures <br>\n",
    "For example : we can see that the public comming from India rates Disney Hong Kong better than the other 2, however it makes more sense for them to visit Disney Hong Kong <br>\n",
    "as it is much closer, the same effect can be seen in other Branches "
   ]
  },
  {
   "cell_type": "code",
   "execution_count": 18,
   "metadata": {},
   "outputs": [
    {
     "data": {
      "text/html": [
       "<div>\n",
       "<style scoped>\n",
       "    .dataframe tbody tr th:only-of-type {\n",
       "        vertical-align: middle;\n",
       "    }\n",
       "\n",
       "    .dataframe tbody tr th {\n",
       "        vertical-align: top;\n",
       "    }\n",
       "\n",
       "    .dataframe thead th {\n",
       "        text-align: right;\n",
       "    }\n",
       "</style>\n",
       "<table border=\"1\" class=\"dataframe\">\n",
       "  <thead>\n",
       "    <tr style=\"text-align: right;\">\n",
       "      <th>Branch</th>\n",
       "      <th>Disneyland_California</th>\n",
       "      <th>Disneyland_HongKong</th>\n",
       "      <th>Disneyland_Paris</th>\n",
       "    </tr>\n",
       "    <tr>\n",
       "      <th>Reviewer_Location</th>\n",
       "      <th></th>\n",
       "      <th></th>\n",
       "      <th></th>\n",
       "    </tr>\n",
       "  </thead>\n",
       "  <tbody>\n",
       "    <tr>\n",
       "      <th>Australia</th>\n",
       "      <td>4.538807</td>\n",
       "      <td>4.213325</td>\n",
       "      <td>3.648739</td>\n",
       "    </tr>\n",
       "    <tr>\n",
       "      <th>Canada</th>\n",
       "      <td>4.412052</td>\n",
       "      <td>3.951220</td>\n",
       "      <td>3.569149</td>\n",
       "    </tr>\n",
       "    <tr>\n",
       "      <th>France</th>\n",
       "      <td>4.227273</td>\n",
       "      <td>4.000000</td>\n",
       "      <td>3.455000</td>\n",
       "    </tr>\n",
       "    <tr>\n",
       "      <th>Hong Kong</th>\n",
       "      <td>4.153846</td>\n",
       "      <td>3.796964</td>\n",
       "      <td>3.714286</td>\n",
       "    </tr>\n",
       "    <tr>\n",
       "      <th>India</th>\n",
       "      <td>4.362963</td>\n",
       "      <td>4.511542</td>\n",
       "      <td>4.215017</td>\n",
       "    </tr>\n",
       "    <tr>\n",
       "      <th>Indonesia</th>\n",
       "      <td>4.307692</td>\n",
       "      <td>4.332623</td>\n",
       "      <td>3.971429</td>\n",
       "    </tr>\n",
       "    <tr>\n",
       "      <th>Ireland</th>\n",
       "      <td>4.138889</td>\n",
       "      <td>4.142857</td>\n",
       "      <td>4.260465</td>\n",
       "    </tr>\n",
       "    <tr>\n",
       "      <th>Malaysia</th>\n",
       "      <td>4.500000</td>\n",
       "      <td>4.220907</td>\n",
       "      <td>4.098039</td>\n",
       "    </tr>\n",
       "    <tr>\n",
       "      <th>Netherlands</th>\n",
       "      <td>4.176471</td>\n",
       "      <td>4.111111</td>\n",
       "      <td>3.792350</td>\n",
       "    </tr>\n",
       "    <tr>\n",
       "      <th>New Zealand</th>\n",
       "      <td>4.487666</td>\n",
       "      <td>4.299401</td>\n",
       "      <td>3.741935</td>\n",
       "    </tr>\n",
       "    <tr>\n",
       "      <th>Philippines</th>\n",
       "      <td>4.545455</td>\n",
       "      <td>4.402624</td>\n",
       "      <td>4.125000</td>\n",
       "    </tr>\n",
       "    <tr>\n",
       "      <th>Singapore</th>\n",
       "      <td>4.161290</td>\n",
       "      <td>4.049296</td>\n",
       "      <td>3.663043</td>\n",
       "    </tr>\n",
       "    <tr>\n",
       "      <th>South Africa</th>\n",
       "      <td>4.230769</td>\n",
       "      <td>4.223077</td>\n",
       "      <td>4.081395</td>\n",
       "    </tr>\n",
       "    <tr>\n",
       "      <th>Thailand</th>\n",
       "      <td>3.866667</td>\n",
       "      <td>4.101604</td>\n",
       "      <td>3.619048</td>\n",
       "    </tr>\n",
       "    <tr>\n",
       "      <th>United Arab Emirates</th>\n",
       "      <td>4.205128</td>\n",
       "      <td>4.304348</td>\n",
       "      <td>3.971154</td>\n",
       "    </tr>\n",
       "    <tr>\n",
       "      <th>United Kingdom</th>\n",
       "      <td>4.290481</td>\n",
       "      <td>4.105405</td>\n",
       "      <td>4.015641</td>\n",
       "    </tr>\n",
       "    <tr>\n",
       "      <th>United States</th>\n",
       "      <td>4.393954</td>\n",
       "      <td>4.144154</td>\n",
       "      <td>3.736289</td>\n",
       "    </tr>\n",
       "  </tbody>\n",
       "</table>\n",
       "</div>"
      ],
      "text/plain": [
       "Branch                Disneyland_California  Disneyland_HongKong  \\\n",
       "Reviewer_Location                                                  \n",
       "Australia                          4.538807             4.213325   \n",
       "Canada                             4.412052             3.951220   \n",
       "France                             4.227273             4.000000   \n",
       "Hong Kong                          4.153846             3.796964   \n",
       "India                              4.362963             4.511542   \n",
       "Indonesia                          4.307692             4.332623   \n",
       "Ireland                            4.138889             4.142857   \n",
       "Malaysia                           4.500000             4.220907   \n",
       "Netherlands                        4.176471             4.111111   \n",
       "New Zealand                        4.487666             4.299401   \n",
       "Philippines                        4.545455             4.402624   \n",
       "Singapore                          4.161290             4.049296   \n",
       "South Africa                       4.230769             4.223077   \n",
       "Thailand                           3.866667             4.101604   \n",
       "United Arab Emirates               4.205128             4.304348   \n",
       "United Kingdom                     4.290481             4.105405   \n",
       "United States                      4.393954             4.144154   \n",
       "\n",
       "Branch                Disneyland_Paris  \n",
       "Reviewer_Location                       \n",
       "Australia                     3.648739  \n",
       "Canada                        3.569149  \n",
       "France                        3.455000  \n",
       "Hong Kong                     3.714286  \n",
       "India                         4.215017  \n",
       "Indonesia                     3.971429  \n",
       "Ireland                       4.260465  \n",
       "Malaysia                      4.098039  \n",
       "Netherlands                   3.792350  \n",
       "New Zealand                   3.741935  \n",
       "Philippines                   4.125000  \n",
       "Singapore                     3.663043  \n",
       "South Africa                  4.081395  \n",
       "Thailand                      3.619048  \n",
       "United Arab Emirates          3.971154  \n",
       "United Kingdom                4.015641  \n",
       "United States                 3.736289  "
      ]
     },
     "execution_count": 18,
     "metadata": {},
     "output_type": "execute_result"
    }
   ],
   "source": [
    "dfLimitedPlaces.groupby(['Branch','Reviewer_Location']).mean()['Rating'].reset_index().pivot_table(columns = 'Branch',index='Reviewer_Location', values = 'Rating')"
   ]
  },
  {
   "cell_type": "markdown",
   "metadata": {},
   "source": [
    "3. Average Rating by Branch"
   ]
  },
  {
   "cell_type": "markdown",
   "metadata": {},
   "source": [
    "4. Group Ratings by branch and year"
   ]
  }
 ],
 "metadata": {
  "kernelspec": {
   "display_name": "Python 3.9.12 ('base')",
   "language": "python",
   "name": "python3"
  },
  "language_info": {
   "codemirror_mode": {
    "name": "ipython",
    "version": 3
   },
   "file_extension": ".py",
   "mimetype": "text/x-python",
   "name": "python",
   "nbconvert_exporter": "python",
   "pygments_lexer": "ipython3",
   "version": "3.9.12"
  },
  "orig_nbformat": 4,
  "vscode": {
   "interpreter": {
    "hash": "3f1fa92065e83bf8b3f9b5096216ce92755ea229f7fd6780b8b3e0f199343520"
   }
  }
 },
 "nbformat": 4,
 "nbformat_minor": 2
}
